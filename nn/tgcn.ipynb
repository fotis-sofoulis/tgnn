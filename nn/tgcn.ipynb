{
 "cells": [
  {
   "cell_type": "markdown",
   "source": [
    "## Imports"
   ],
   "metadata": {
    "collapsed": false
   },
   "id": "74a3149c71ff2856"
  },
  {
   "cell_type": "code",
   "execution_count": 1,
   "outputs": [],
   "source": [
    "import pandas as pd\n",
    "import numpy as np\n",
    "import torch\n",
    "import matplotlib.pyplot as plt\n",
    "import seaborn as sns"
   ],
   "metadata": {
    "collapsed": false,
    "ExecuteTime": {
     "end_time": "2023-09-15T17:25:42.506707300Z",
     "start_time": "2023-09-15T17:25:40.910289Z"
    }
   },
   "id": "abd431e064d77f9c"
  },
  {
   "cell_type": "code",
   "execution_count": 2,
   "outputs": [],
   "source": [
    "# Load the data from CSV\n",
    "df = pd.read_csv('data/CollegeMsgClustered.csv')"
   ],
   "metadata": {
    "collapsed": false,
    "ExecuteTime": {
     "end_time": "2023-09-15T17:25:42.521708700Z",
     "start_time": "2023-09-15T17:25:42.509710300Z"
    }
   },
   "id": "8eff2e42bc396cb2"
  },
  {
   "cell_type": "code",
   "execution_count": 3,
   "outputs": [],
   "source": [
    "def bucket_to_snapshot(bucket_df):\n",
    "    # Combining src and dst to generate unique node set\n",
    "    nodes_df = bucket_df[['src_id', 'src_cluster']].rename(columns={'src_id': 'id', 'src_cluster': 'cluster'})\n",
    "    nodes_df = nodes_df.append(bucket_df[['dst_id', 'dst_cluster']].rename(columns={'dst_id': 'id', 'dst_cluster': 'cluster'}))\n",
    "    nodes_df = nodes_df.drop_duplicates()\n",
    "    \n",
    "    # Mapping each unique node to a unique index\n",
    "    node_indices = {node_id: idx for idx, node_id in enumerate(nodes_df['id'].unique())}\n",
    "    \n",
    "    # Edge indices based on the newly mapped indices\n",
    "    edge_index = np.array(list(zip(bucket_df[\"src_id\"].map(node_indices), bucket_df[\"dst_id\"].map(node_indices)))).T\n",
    "\n",
    "    # Generate node features based on clusters\n",
    "    node_features = nodes_df[['cluster']].to_numpy(dtype=np.float32)\n",
    "    \n",
    "    targets = nodes_df['cluster'].to_numpy(dtype=np.float32)\n",
    "\n",
    "    edge_weight = np.ones(edge_index.shape[1], dtype=np.float32)\n",
    "    \n",
    "    return edge_index, node_features, edge_weight, targets"
   ],
   "metadata": {
    "collapsed": false,
    "ExecuteTime": {
     "end_time": "2023-09-15T17:25:42.551709300Z",
     "start_time": "2023-09-15T17:25:42.526710100Z"
    }
   },
   "id": "cae8350beaef356c"
  },
  {
   "cell_type": "code",
   "execution_count": 4,
   "outputs": [],
   "source": [
    "snapshots = []\n",
    "for bucket_id in df[\"bucket_id\"].unique():\n",
    "    edge_index, node_features, edge_weight , targets= bucket_to_snapshot(df[df[\"bucket_id\"] == bucket_id])\n",
    "    snapshots.append((edge_index, node_features, edge_weight, targets))"
   ],
   "metadata": {
    "collapsed": false,
    "ExecuteTime": {
     "end_time": "2023-09-15T17:25:42.587710600Z",
     "start_time": "2023-09-15T17:25:42.539710500Z"
    }
   },
   "id": "2e2afddb1fd21072"
  },
  {
   "cell_type": "code",
   "execution_count": 5,
   "outputs": [],
   "source": [
    "# Convert snapshots to StaticGraphTemporalSignal\n",
    "edge_indices = [np.array(s[0]) for s in snapshots]\n",
    "node_features = [np.array(s[1]) for s in snapshots]\n",
    "edge_weights = [np.array(s[2]) for s in snapshots]\n",
    "targets = [np.array(s[3]) for s in snapshots]"
   ],
   "metadata": {
    "collapsed": false,
    "ExecuteTime": {
     "end_time": "2023-09-15T17:25:42.606712800Z",
     "start_time": "2023-09-15T17:25:42.589708600Z"
    }
   },
   "id": "3b4c349f9e6679bf"
  },
  {
   "cell_type": "code",
   "execution_count": 6,
   "outputs": [
    {
     "name": "stdout",
     "output_type": "stream",
     "text": [
      "x=(5, 1),edge_index=(2, 3), edge_weight=(3,), targets=(5,)\n",
      "x=(29, 1),edge_index=(2, 23), edge_weight=(23,), targets=(29,)\n",
      "x=(37, 1),edge_index=(2, 28), edge_weight=(28,), targets=(37,)\n",
      "x=(43, 1),edge_index=(2, 37), edge_weight=(37,), targets=(43,)\n",
      "x=(62, 1),edge_index=(2, 60), edge_weight=(60,), targets=(62,)\n",
      "x=(91, 1),edge_index=(2, 125), edge_weight=(125,), targets=(91,)\n",
      "x=(85, 1),edge_index=(2, 124), edge_weight=(124,), targets=(85,)\n",
      "x=(95, 1),edge_index=(2, 145), edge_weight=(145,), targets=(95,)\n",
      "x=(107, 1),edge_index=(2, 169), edge_weight=(169,), targets=(107,)\n",
      "x=(107, 1),edge_index=(2, 183), edge_weight=(183,), targets=(107,)\n"
     ]
    }
   ],
   "source": [
    "for i, idx in enumerate(node_features):\n",
    "    print(f\"x={node_features[i].shape},edge_index={edge_indices[i].shape}, edge_weight=\"\n",
    "          f\"{edge_weights[i].shape}, targets={targets[i].shape}\")"
   ],
   "metadata": {
    "collapsed": false,
    "ExecuteTime": {
     "end_time": "2023-09-15T17:25:42.645710600Z",
     "start_time": "2023-09-15T17:25:42.603712300Z"
    }
   },
   "id": "bfdbd81c76d88a6"
  },
  {
   "cell_type": "code",
   "execution_count": 7,
   "outputs": [],
   "source": [
    "from torch_geometric_temporal import DynamicGraphTemporalSignal\n",
    "\n",
    "dataset = DynamicGraphTemporalSignal(edge_indices=edge_indices, edge_weights=edge_weights, features=node_features, targets=targets)"
   ],
   "metadata": {
    "collapsed": false,
    "ExecuteTime": {
     "end_time": "2023-09-15T17:25:43.340203Z",
     "start_time": "2023-09-15T17:25:42.618709Z"
    }
   },
   "id": "7a6212a185331a96"
  },
  {
   "cell_type": "code",
   "execution_count": 8,
   "outputs": [
    {
     "name": "stdout",
     "output_type": "stream",
     "text": [
      "Number of train buckets:  8\n",
      "Number of test buckets:  2\n"
     ]
    }
   ],
   "source": [
    "from torch_geometric_temporal.signal import temporal_signal_split\n",
    "\n",
    "# Split the StaticGraphTemporalSignal\n",
    "train_dataset, test_dataset = temporal_signal_split(dataset, 0.8)\n",
    "\n",
    "print(\"Number of train buckets: \", len(train_dataset.features))\n",
    "print(\"Number of test buckets: \", len(test_dataset.features))   "
   ],
   "metadata": {
    "collapsed": false,
    "ExecuteTime": {
     "end_time": "2023-09-15T17:25:43.353198600Z",
     "start_time": "2023-09-15T17:25:43.334200700Z"
    }
   },
   "id": "af360e26267f5490"
  },
  {
   "cell_type": "code",
   "execution_count": 9,
   "outputs": [],
   "source": [
    "import torch.nn.functional as F\n",
    "from torch_geometric_temporal.nn import TGCN\n",
    "\n",
    "# 2. Model Definition\n",
    "class TGNN(torch.nn.Module):\n",
    "    def __init__(self, node_features, num_classes):\n",
    "        super(TGNN, self).__init__()\n",
    "        self.recurrent = TGCN(node_features, 32)\n",
    "        self.linear = torch.nn.Linear(32, num_classes)\n",
    "        \n",
    "    def forward(self, x, edge_index, edge_weight):\n",
    "        h = self.recurrent(x, edge_index, edge_weight)\n",
    "        h = F.relu(h)\n",
    "        h = F.dropout(h, p=0.2, training=self.training)\n",
    "        h = self.linear(h)\n",
    "        return h"
   ],
   "metadata": {
    "collapsed": false,
    "ExecuteTime": {
     "end_time": "2023-09-15T17:25:43.366202400Z",
     "start_time": "2023-09-15T17:25:43.349198600Z"
    }
   },
   "id": "97cf08561b7d5bbf"
  },
  {
   "cell_type": "code",
   "execution_count": 10,
   "outputs": [],
   "source": [
    "# device = torch.device('cuda' if torch.cuda.is_available() else 'cpu')\n",
    "device =torch.device('cpu')"
   ],
   "metadata": {
    "collapsed": false,
    "ExecuteTime": {
     "end_time": "2023-09-15T17:25:43.424201200Z",
     "start_time": "2023-09-15T17:25:43.364201200Z"
    }
   },
   "id": "89604611dc7b28a1"
  },
  {
   "cell_type": "code",
   "execution_count": 11,
   "outputs": [
    {
     "data": {
      "text/plain": "TGNN(\n  (recurrent): TGCN(\n    (conv_z): GCNConv(1, 32)\n    (linear_z): Linear(in_features=64, out_features=32, bias=True)\n    (conv_r): GCNConv(1, 32)\n    (linear_r): Linear(in_features=64, out_features=32, bias=True)\n    (conv_h): GCNConv(1, 32)\n    (linear_h): Linear(in_features=64, out_features=32, bias=True)\n  )\n  (linear): Linear(in_features=32, out_features=3, bias=True)\n)"
     },
     "execution_count": 11,
     "metadata": {},
     "output_type": "execute_result"
    }
   ],
   "source": [
    "# Number of features and classes based on dataset\n",
    "node_features = train_dataset.features[0].shape[1]\n",
    "num_classes = 3\n",
    "\n",
    "model = TGNN(node_features, num_classes).to(device)\n",
    "optimizer = torch.optim.Adam(model.parameters(), lr=0.01)\n",
    "loss_fn = torch.nn.CrossEntropyLoss()\n",
    "model.train()"
   ],
   "metadata": {
    "collapsed": false,
    "ExecuteTime": {
     "end_time": "2023-09-15T17:25:43.441199900Z",
     "start_time": "2023-09-15T17:25:43.380200Z"
    }
   },
   "id": "668d227f2489b4af"
  },
  {
   "cell_type": "code",
   "execution_count": 12,
   "outputs": [
    {
     "name": "stdout",
     "output_type": "stream",
     "text": [
      "Data(x=[5, 1], edge_index=[2, 3], edge_attr=[3], y=[5])\n",
      "Data(x=[29, 1], edge_index=[2, 23], edge_attr=[23], y=[29])\n",
      "Data(x=[37, 1], edge_index=[2, 28], edge_attr=[28], y=[37])\n",
      "Data(x=[43, 1], edge_index=[2, 37], edge_attr=[37], y=[43])\n",
      "Data(x=[62, 1], edge_index=[2, 60], edge_attr=[60], y=[62])\n",
      "Data(x=[91, 1], edge_index=[2, 125], edge_attr=[125], y=[91])\n",
      "Data(x=[85, 1], edge_index=[2, 124], edge_attr=[124], y=[85])\n",
      "Data(x=[95, 1], edge_index=[2, 145], edge_attr=[145], y=[95])\n"
     ]
    }
   ],
   "source": [
    "for snapshot in train_dataset:\n",
    "    print(snapshot)"
   ],
   "metadata": {
    "collapsed": false,
    "ExecuteTime": {
     "end_time": "2023-09-15T17:25:43.441199900Z",
     "start_time": "2023-09-15T17:25:43.397208300Z"
    }
   },
   "id": "573f28430440dc19"
  },
  {
   "cell_type": "code",
   "execution_count": 13,
   "outputs": [],
   "source": [
    "# loss_fn = torch.nn.CrossEntropyLoss()\n",
    "# for step, snapshot in enumerate(train_dataset):\n",
    "#     optimizer.zero_grad()\n",
    "#     x = snapshot.x.to(device)  # using dot notation for accessing attributes\n",
    "#     edge_index = snapshot.edge_index.to(device)\n",
    "#     edge_weight = snapshot.edge_attr.to(device)  # Assuming edge_attr is edge_weight\n",
    "#     y_to_long = snapshot.y.type(torch.LongTensor)\n",
    "#     y = y_to_long.to(device)\n",
    "#     out = model(x, edge_index, edge_weight)\n",
    "#     loss = loss_fn(out, y)\n",
    "#     print(loss)\n",
    "#     print(f\"Model Output Shape: {out.shape},Target Shape: {y.shape}\")"
   ],
   "metadata": {
    "collapsed": false,
    "ExecuteTime": {
     "end_time": "2023-09-15T17:25:43.442199900Z",
     "start_time": "2023-09-15T17:25:43.413202200Z"
    }
   },
   "id": "cdd8a3ffa76472fc"
  },
  {
   "cell_type": "code",
   "execution_count": 14,
   "outputs": [
    {
     "name": "stdout",
     "output_type": "stream",
     "text": [
      "Running training...\n",
      "Epoch 0, Loss: 7.8147\n",
      "Epoch 10, Loss: 2.7949\n",
      "Epoch 20, Loss: 2.2887\n",
      "Epoch 30, Loss: 2.1129\n",
      "Epoch 40, Loss: 2.0904\n",
      "Epoch 50, Loss: 2.1216\n",
      "Epoch 60, Loss: 2.0280\n",
      "Epoch 70, Loss: 2.0124\n",
      "Epoch 80, Loss: 1.8990\n",
      "Epoch 90, Loss: 1.9588\n",
      "Epoch 100, Loss: 1.9399\n",
      "Epoch 110, Loss: 1.8552\n",
      "Epoch 120, Loss: 1.8118\n",
      "Epoch 130, Loss: 1.7787\n",
      "Epoch 140, Loss: 1.9782\n",
      "Epoch 150, Loss: 1.5588\n",
      "Epoch 160, Loss: 1.6546\n",
      "Epoch 170, Loss: 1.7102\n",
      "Epoch 180, Loss: 1.5110\n",
      "Epoch 190, Loss: 1.6150\n"
     ]
    }
   ],
   "source": [
    "# 3. Training Loop\n",
    "losses = []\n",
    "print(\"Running training...\")\n",
    "for epoch in range(200):\n",
    "    \n",
    "    total_loss = 0\n",
    "    snapshot_count = 0\n",
    "    for step, snapshot in enumerate(train_dataset):\n",
    "        snapshot_count += 1\n",
    "        optimizer.zero_grad()\n",
    "        x = snapshot.x.to(device)  # using dot notation for accessing attributes\n",
    "        edge_index = snapshot.edge_index.to(device)\n",
    "        edge_weight = snapshot.edge_attr.to(device)  # Assuming edge_attr is edge_weight\n",
    "        y_to_long = snapshot.y.type(torch.LongTensor)\n",
    "        y = y_to_long.to(device)\n",
    "        \n",
    "        out = model(x, edge_index, edge_weight)\n",
    "        loss = loss_fn(out,y)\n",
    "        \n",
    "        loss.backward()\n",
    "        optimizer.step()\n",
    "        \n",
    "        total_loss += loss.item()\n",
    "        \n",
    "        number_of_snapshots = step + 1\n",
    "    average_loss = total_loss / snapshot_count  # Compute average loss for the epoch\n",
    "    losses.append(average_loss)\n",
    "        \n",
    "    if epoch % 10 == 0:\n",
    "        print(f\"Epoch {epoch}, Loss: {total_loss:.4f}\")"
   ],
   "metadata": {
    "collapsed": false,
    "ExecuteTime": {
     "end_time": "2023-09-15T17:25:51.638695100Z",
     "start_time": "2023-09-15T17:25:43.432200Z"
    }
   },
   "id": "6e0860a803437164"
  },
  {
   "cell_type": "code",
   "execution_count": 17,
   "outputs": [
    {
     "name": "stdout",
     "output_type": "stream",
     "text": [
      "Test loss: 0.7805\n",
      "Accuracy of the model on test snapshots: 71.03%\n",
      "Precision: 0.4413\n",
      "Recall: 0.4157\n",
      "F1 Score: 0.4201\n"
     ]
    }
   ],
   "source": [
    "from sklearn.metrics import precision_score, recall_score, f1_score, classification_report, confusion_matrix\n",
    "\n",
    "model.eval()  # Set the model to evaluation mode\n",
    "correct = 0\n",
    "total = 0\n",
    "total_loss = 0\n",
    "\n",
    "all_preds = []\n",
    "all_labels = []\n",
    "\n",
    "with torch.no_grad():  # During evaluation, no gradients are computed\n",
    "    for step, snapshot in enumerate(test_dataset):\n",
    "        x = snapshot.x.to(device)\n",
    "        edge_index = snapshot.edge_index.to(device)\n",
    "        edge_weight = snapshot.edge_attr.to(device)\n",
    "        y_to_long = snapshot.y.type(torch.LongTensor)\n",
    "        y = y_to_long.to(device)\n",
    "\n",
    "        # Forward pass\n",
    "        out = model(x, edge_index, edge_weight)\n",
    "        loss = loss_fn(out,y)\n",
    "        total_loss += loss.item()\n",
    "        \n",
    "        # Get predictions from the maximum value\n",
    "        _, predicted = torch.max(out.data, 1)\n",
    "\n",
    "        # Total number of labels\n",
    "        total += y.size(0)\n",
    "\n",
    "        # Total correct predictions\n",
    "        correct += (predicted == y).sum().item()\n",
    "        \n",
    "        all_preds.extend(predicted.cpu().numpy())\n",
    "        all_labels.extend(y.cpu().numpy())\n",
    "        number_of_snapshots = step + 1\n",
    "        total_loss = total_loss / number_of_snapshots\n",
    "    \n",
    "    \n",
    "    precision = precision_score(all_labels, all_preds, average='macro')\n",
    "    recall = recall_score(all_labels, all_preds, average='macro')\n",
    "    f1 = f1_score(all_labels, all_preds, average='macro')\n",
    "    class_report = classification_report(all_labels, all_preds, labels=[0,1,2])\n",
    "    confusion_matrix = confusion_matrix(all_labels, all_preds, labels=[0,1,2])\n",
    "    \n",
    "# Adjusting the index from enumerate to get the count\n",
    "print(f\"Test loss: {total_loss:.4f}\")\n",
    "print(f\"Accuracy of the model on test snapshots: {100 * correct / total:.2f}%\")\n",
    "print(f\"Precision: {precision:.4f}\")\n",
    "print(f\"Recall: {recall:.4f}\")\n",
    "print(f\"F1 Score: {f1:.4f}\")"
   ],
   "metadata": {
    "collapsed": false,
    "ExecuteTime": {
     "end_time": "2023-09-15T17:37:33.024431800Z",
     "start_time": "2023-09-15T17:37:32.978435100Z"
    }
   },
   "id": "427491645c7450fe"
  },
  {
   "cell_type": "code",
   "execution_count": 18,
   "outputs": [
    {
     "data": {
      "text/plain": "<Figure size 640x480 with 2 Axes>",
      "image/png": "[encoded data removed]"
     },
     "metadata": {},
     "output_type": "display_data"
    }
   ],
   "source": [
    "# Plot of the confusion matrix to a heatmap\n",
    "df_cm = pd.DataFrame(confusion_matrix, range(3), range(3))\n",
    "ax= plt.subplot()\n",
    "sns.set(font_scale=1.2)\n",
    "sns.heatmap(df_cm, cmap=\"coolwarm\", annot=True, annot_kws={\"size\": 16}, fmt='d', ax = ax)\n",
    "plt.title('Confusion Matrix')\n",
    "ax.set_xlabel('Predicted Values')\n",
    "ax.set_ylabel('True Values')\n",
    "ax.set_title('Confusion Matrix using TGCN')\n",
    "bottom, top = ax.get_ylim()\n",
    "ax.set_ylim(bottom + 0.5, top - 0.5)\n",
    "plt.show()"
   ],
   "metadata": {
    "collapsed": false,
    "ExecuteTime": {
     "end_time": "2023-09-15T17:37:35.594451300Z",
     "start_time": "2023-09-15T17:37:35.336455100Z"
    }
   },
   "id": "50ae8715fb1904f7"
  },
  {
   "cell_type": "code",
   "execution_count": 16,
   "outputs": [
    {
     "data": {
      "text/plain": "<Figure size 640x480 with 1 Axes>",
      "image/png": "[encoded data removed]"
     },
     "metadata": {},
     "output_type": "display_data"
    }
   ],
   "source": [
    "import matplotlib.pyplot as plt\n",
    "\n",
    "plt.plot(losses)\n",
    "plt.xlabel('Epoch')\n",
    "plt.ylabel('Loss')\n",
    "plt.title('TGCN Training Loss Curve')\n",
    "plt.show()"
   ],
   "metadata": {
    "collapsed": false,
    "ExecuteTime": {
     "end_time": "2023-09-15T17:25:52.053696500Z",
     "start_time": "2023-09-15T17:25:51.768692800Z"
    }
   },
   "id": "5150d930bb0aa249"
  }
 ],
 "metadata": {
  "kernelspec": {
   "display_name": "Python 3",
   "language": "python",
   "name": "python3"
  },
  "language_info": {
   "codemirror_mode": {
    "name": "ipython",
    "version": 2
   },
   "file_extension": ".py",
   "mimetype": "text/x-python",
   "name": "python",
   "nbconvert_exporter": "python",
   "pygments_lexer": "ipython2",
   "version": "2.7.6"
  }
 },
 "nbformat": 4,
 "nbformat_minor": 5
}
