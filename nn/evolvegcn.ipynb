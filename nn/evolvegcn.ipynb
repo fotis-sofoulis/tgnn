{
 "cells": [
  {
   "cell_type": "markdown",
   "source": [
    "## Imports"
   ],
   "metadata": {
    "collapsed": false
   },
   "id": "74a3149c71ff2856"
  },
  {
   "cell_type": "code",
   "execution_count": 1,
   "outputs": [],
   "source": [
    "import pandas as pd\n",
    "import numpy as np\n",
    "import torch\n",
    "import matplotlib.pyplot as plt\n",
    "import seaborn as sns"
   ],
   "metadata": {
    "collapsed": false,
    "ExecuteTime": {
     "end_time": "2023-09-15T17:35:48.908115600Z",
     "start_time": "2023-09-15T17:35:46.857683700Z"
    }
   },
   "id": "abd431e064d77f9c"
  },
  {
   "cell_type": "code",
   "execution_count": 2,
   "outputs": [],
   "source": [
    "# Load the data from CSV\n",
    "df = pd.read_csv('data/CollegeMsgClustered.csv')"
   ],
   "metadata": {
    "collapsed": false,
    "ExecuteTime": {
     "end_time": "2023-09-15T17:35:48.924117400Z",
     "start_time": "2023-09-15T17:35:48.911119800Z"
    }
   },
   "id": "8eff2e42bc396cb2"
  },
  {
   "cell_type": "code",
   "execution_count": 3,
   "outputs": [],
   "source": [
    "def bucket_to_snapshot(bucket_df):\n",
    "    # Combining src and dst to generate unique node set\n",
    "    nodes_df = bucket_df[['src_id', 'src_cluster']].rename(columns={'src_id': 'id', 'src_cluster': 'cluster'})\n",
    "    nodes_df = nodes_df.append(bucket_df[['dst_id', 'dst_cluster']].rename(columns={'dst_id': 'id', 'dst_cluster': 'cluster'}))\n",
    "    nodes_df = nodes_df.drop_duplicates()\n",
    "    \n",
    "    # Mapping each unique node to a unique index\n",
    "    node_indices = {node_id: idx for idx, node_id in enumerate(nodes_df['id'].unique())}\n",
    "    \n",
    "    # Edge indices based on the newly mapped indices\n",
    "    edge_index = np.array(list(zip(bucket_df[\"src_id\"].map(node_indices), bucket_df[\"dst_id\"].map(node_indices)))).T\n",
    "\n",
    "    # Generate node features based on clusters\n",
    "    node_features = nodes_df[['cluster']].to_numpy(dtype=np.float32)\n",
    "    \n",
    "    targets = nodes_df['cluster'].to_numpy(dtype=np.float32)\n",
    "\n",
    "    edge_weight = np.ones(edge_index.shape[1], dtype=np.float32)\n",
    "    \n",
    "    return edge_index, node_features, edge_weight, targets"
   ],
   "metadata": {
    "collapsed": false,
    "ExecuteTime": {
     "end_time": "2023-09-15T17:35:48.956301Z",
     "start_time": "2023-09-15T17:35:48.931116300Z"
    }
   },
   "id": "cae8350beaef356c"
  },
  {
   "cell_type": "code",
   "execution_count": 4,
   "outputs": [],
   "source": [
    "snapshots = []\n",
    "for bucket_id in df[\"bucket_id\"].unique():\n",
    "    edge_index, node_features, edge_weight , targets= bucket_to_snapshot(df[df[\"bucket_id\"] == bucket_id])\n",
    "    snapshots.append((edge_index, node_features, edge_weight, targets))"
   ],
   "metadata": {
    "collapsed": false,
    "ExecuteTime": {
     "end_time": "2023-09-15T17:35:49.004300700Z",
     "start_time": "2023-09-15T17:35:48.943298800Z"
    }
   },
   "id": "2e2afddb1fd21072"
  },
  {
   "cell_type": "code",
   "execution_count": 5,
   "outputs": [],
   "source": [
    "# Convert snapshots to StaticGraphTemporalSignal\n",
    "edge_indices = [np.array(s[0]) for s in snapshots]\n",
    "node_features = [np.array(s[1]) for s in snapshots]\n",
    "edge_weights = [np.array(s[2]) for s in snapshots]\n",
    "targets = [np.array(s[3]) for s in snapshots]"
   ],
   "metadata": {
    "collapsed": false,
    "ExecuteTime": {
     "end_time": "2023-09-15T17:35:49.019302300Z",
     "start_time": "2023-09-15T17:35:49.009303500Z"
    }
   },
   "id": "3b4c349f9e6679bf"
  },
  {
   "cell_type": "code",
   "execution_count": 6,
   "outputs": [
    {
     "name": "stdout",
     "output_type": "stream",
     "text": [
      "x=(5, 1),edge_index=(2, 3), edge_weight=(3,), targets=(5,)\n",
      "x=(29, 1),edge_index=(2, 23), edge_weight=(23,), targets=(29,)\n",
      "x=(37, 1),edge_index=(2, 28), edge_weight=(28,), targets=(37,)\n",
      "x=(43, 1),edge_index=(2, 37), edge_weight=(37,), targets=(43,)\n",
      "x=(62, 1),edge_index=(2, 60), edge_weight=(60,), targets=(62,)\n",
      "x=(91, 1),edge_index=(2, 125), edge_weight=(125,), targets=(91,)\n",
      "x=(85, 1),edge_index=(2, 124), edge_weight=(124,), targets=(85,)\n",
      "x=(95, 1),edge_index=(2, 145), edge_weight=(145,), targets=(95,)\n",
      "x=(107, 1),edge_index=(2, 169), edge_weight=(169,), targets=(107,)\n",
      "x=(107, 1),edge_index=(2, 183), edge_weight=(183,), targets=(107,)\n"
     ]
    }
   ],
   "source": [
    "for i, idx in enumerate(node_features):\n",
    "    print(f\"x={node_features[i].shape},edge_index={edge_indices[i].shape}, edge_weight=\"\n",
    "          f\"{edge_weights[i].shape}, targets={targets[i].shape}\")"
   ],
   "metadata": {
    "collapsed": false,
    "ExecuteTime": {
     "end_time": "2023-09-15T17:35:49.063466600Z",
     "start_time": "2023-09-15T17:35:49.019302300Z"
    }
   },
   "id": "bfdbd81c76d88a6"
  },
  {
   "cell_type": "code",
   "execution_count": 7,
   "outputs": [],
   "source": [
    "from torch_geometric_temporal import DynamicGraphTemporalSignal\n",
    "\n",
    "dataset = DynamicGraphTemporalSignal(edge_indices=edge_indices, edge_weights=edge_weights, features=node_features, targets=targets)"
   ],
   "metadata": {
    "collapsed": false,
    "ExecuteTime": {
     "end_time": "2023-09-15T17:35:49.719647100Z",
     "start_time": "2023-09-15T17:35:49.037304200Z"
    }
   },
   "id": "7a6212a185331a96"
  },
  {
   "cell_type": "code",
   "execution_count": 8,
   "outputs": [
    {
     "name": "stdout",
     "output_type": "stream",
     "text": [
      "Number of train buckets:  8\n",
      "Number of test buckets:  2\n"
     ]
    }
   ],
   "source": [
    "from torch_geometric_temporal.signal import temporal_signal_split\n",
    "\n",
    "# Split the StaticGraphTemporalSignal\n",
    "train_dataset, test_dataset = temporal_signal_split(dataset, 0.8)\n",
    "\n",
    "print(\"Number of train buckets: \", len(train_dataset.features))\n",
    "print(\"Number of test buckets: \", len(test_dataset.features))   "
   ],
   "metadata": {
    "collapsed": false,
    "ExecuteTime": {
     "end_time": "2023-09-15T17:35:49.740653300Z",
     "start_time": "2023-09-15T17:35:49.721648800Z"
    }
   },
   "id": "af360e26267f5490"
  },
  {
   "cell_type": "code",
   "execution_count": 9,
   "outputs": [],
   "source": [
    "import torch.nn.functional as F\n",
    "from torch_geometric_temporal.nn import EvolveGCNO\n",
    "\n",
    "# 2. Model Definition\n",
    "class EvolveGCNN(torch.nn.Module):\n",
    "    def __init__(self, node_features, num_classes):\n",
    "        super(EvolveGCNN, self).__init__()\n",
    "        self.recurrent = EvolveGCNO(node_features)\n",
    "        self.linear = torch.nn.Linear(node_features, num_classes)\n",
    "\n",
    "    def forward(self, x, edge_index, edge_weight):\n",
    "        h = self.recurrent(x, edge_index, edge_weight)\n",
    "        h = F.relu(h)\n",
    "        h = self.linear(h)\n",
    "        return h"
   ],
   "metadata": {
    "collapsed": false,
    "ExecuteTime": {
     "end_time": "2023-09-15T17:35:49.779797200Z",
     "start_time": "2023-09-15T17:35:49.739652800Z"
    }
   },
   "id": "97cf08561b7d5bbf"
  },
  {
   "cell_type": "code",
   "execution_count": 10,
   "outputs": [],
   "source": [
    "device = torch.device('cuda' if torch.cuda.is_available() else 'cpu')"
   ],
   "metadata": {
    "collapsed": false,
    "ExecuteTime": {
     "end_time": "2023-09-15T17:35:49.791798500Z",
     "start_time": "2023-09-15T17:35:49.752802Z"
    }
   },
   "id": "89604611dc7b28a1"
  },
  {
   "cell_type": "code",
   "execution_count": 11,
   "outputs": [
    {
     "data": {
      "text/plain": "EvolveGCNN(\n  (recurrent): EvolveGCNO(\n    (recurrent_layer): GRU(1, 1)\n    (conv_layer): GCNConv_Fixed_W(1, 1)\n  )\n  (linear): Linear(in_features=1, out_features=3, bias=True)\n)"
     },
     "execution_count": 11,
     "metadata": {},
     "output_type": "execute_result"
    }
   ],
   "source": [
    "# Number of features and classes based on dataset\n",
    "node_features = train_dataset.features[0].shape[1]\n",
    "num_classes = 3\n",
    "\n",
    "model = EvolveGCNN(node_features, num_classes).to(device)\n",
    "optimizer = torch.optim.Adam(model.parameters(), lr=0.01)\n",
    "loss_fn = torch.nn.CrossEntropyLoss()\n",
    "model.train()"
   ],
   "metadata": {
    "collapsed": false,
    "ExecuteTime": {
     "end_time": "2023-09-15T17:35:51.918375800Z",
     "start_time": "2023-09-15T17:35:49.769796600Z"
    }
   },
   "id": "668d227f2489b4af"
  },
  {
   "cell_type": "code",
   "execution_count": 12,
   "outputs": [],
   "source": [
    "# for snapshot in train_dataset:\n",
    "#     x = snapshot.x.to(device)  # using dot notation for accessing attributes\n",
    "#     edge_index = snapshot.edge_index.to(device)\n",
    "#     edge_weight = snapshot.edge_attr.to(device)  # Assuming edge_attr is edge_weight\n",
    "#     y = snapshot.y.to(device)\n",
    "#     \n",
    "#     out = model(x, edge_index, edge_weight)\n",
    "#     loss = F.cross_entropy(out,y)\n",
    "#     print(loss)"
   ],
   "metadata": {
    "collapsed": false,
    "ExecuteTime": {
     "end_time": "2023-09-15T17:35:51.964374900Z",
     "start_time": "2023-09-15T17:35:51.920377Z"
    }
   },
   "id": "573f28430440dc19"
  },
  {
   "cell_type": "code",
   "execution_count": 13,
   "outputs": [
    {
     "name": "stdout",
     "output_type": "stream",
     "text": [
      "Running training...\n",
      "Epoch 0, Loss: 6.4251\n",
      "Epoch 10, Loss: 4.2921\n",
      "Epoch 20, Loss: 3.5841\n",
      "Epoch 30, Loss: 3.3204\n",
      "Epoch 40, Loss: 3.1780\n",
      "Epoch 50, Loss: 3.0883\n",
      "Epoch 60, Loss: 3.0271\n",
      "Epoch 70, Loss: 2.9830\n",
      "Epoch 80, Loss: 2.9501\n",
      "Epoch 90, Loss: 2.9249\n",
      "Epoch 100, Loss: 2.9052\n",
      "Epoch 110, Loss: 2.8895\n",
      "Epoch 120, Loss: 2.8770\n",
      "Epoch 130, Loss: 2.8668\n",
      "Epoch 140, Loss: 2.8584\n",
      "Epoch 150, Loss: 2.8515\n",
      "Epoch 160, Loss: 2.8458\n",
      "Epoch 170, Loss: 2.8410\n",
      "Epoch 180, Loss: 2.8370\n",
      "Epoch 190, Loss: 2.8337\n"
     ]
    }
   ],
   "source": [
    "# 3. Training Loop\n",
    "losses = []\n",
    "print(\"Running training...\")\n",
    "for epoch in range(200):\n",
    "\n",
    "    total_loss = 0\n",
    "    snapshot_count = 0\n",
    "    for step, snapshot in enumerate(train_dataset):\n",
    "        snapshot_count += 1\n",
    "        optimizer.zero_grad()\n",
    "        x = snapshot.x.to(device)  # using dot notation for accessing attributes\n",
    "        edge_index = snapshot.edge_index.to(device)\n",
    "        edge_weight = snapshot.edge_attr.to(device)  # Assuming edge_attr is edge_weight\n",
    "        y_to_long = snapshot.y.type(torch.LongTensor)\n",
    "        y = y_to_long.to(device)\n",
    "\n",
    "        out = model(x, edge_index, edge_weight)\n",
    "        loss = loss_fn(out,y)\n",
    "\n",
    "        loss.backward(retain_graph=True)\n",
    "        optimizer.step()\n",
    "\n",
    "        total_loss += loss.item()\n",
    "\n",
    "        number_of_snapshots = step + 1\n",
    "    average_loss = total_loss / snapshot_count  # Compute average loss for the epoch\n",
    "    losses.append(average_loss)\n",
    "\n",
    "    if epoch % 10 == 0:\n",
    "        print(f\"Epoch {epoch}, Loss: {total_loss:.4f}\")"
   ],
   "metadata": {
    "collapsed": false,
    "ExecuteTime": {
     "end_time": "2023-09-15T17:35:57.883219100Z",
     "start_time": "2023-09-15T17:35:51.939379600Z"
    }
   },
   "id": "5ec4664df147d5d2"
  },
  {
   "cell_type": "code",
   "execution_count": 14,
   "outputs": [
    {
     "name": "stdout",
     "output_type": "stream",
     "text": [
      "Test loss: 1.1393\n",
      "Accuracy of the model on test snapshots: 66.82%\n",
      "Precision: 0.5235\n",
      "Recall: 0.5174\n",
      "F1 Score: 0.5115\n"
     ]
    }
   ],
   "source": [
    "from sklearn.metrics import precision_score, recall_score, f1_score, classification_report, confusion_matrix\n",
    "\n",
    "model.eval()  # Set the model to evaluation mode\n",
    "correct = 0\n",
    "total = 0\n",
    "total_loss = 0\n",
    "\n",
    "all_preds = []\n",
    "all_labels = []\n",
    "\n",
    "with torch.no_grad():  # During evaluation, no gradients are computed\n",
    "    for step, snapshot in enumerate(test_dataset):\n",
    "        x = snapshot.x.to(device)\n",
    "        edge_index = snapshot.edge_index.to(device)\n",
    "        edge_weight = snapshot.edge_attr.to(device)\n",
    "        y_to_long = snapshot.y.type(torch.LongTensor)\n",
    "        y = y_to_long.to(device)\n",
    "\n",
    "        # Forward pass\n",
    "        out = model(x, edge_index, edge_weight)\n",
    "        loss = loss_fn(out,y)\n",
    "        total_loss += loss.item()\n",
    "        \n",
    "        # Get predictions from the maximum value\n",
    "        _, predicted = torch.max(out.data, 1)\n",
    "\n",
    "        # Total number of labels\n",
    "        total += y.size(0)\n",
    "\n",
    "        # Total correct predictions\n",
    "        correct += (predicted == y).sum().item()\n",
    "        \n",
    "        all_preds.extend(predicted.cpu().numpy())\n",
    "        all_labels.extend(y.cpu().numpy())\n",
    "        number_of_snapshots = step + 1\n",
    "        total_loss = total_loss / number_of_snapshots\n",
    "    \n",
    "    \n",
    "    precision = precision_score(all_labels, all_preds, average='macro')\n",
    "    recall = recall_score(all_labels, all_preds, average='macro')\n",
    "    f1 = f1_score(all_labels, all_preds, average='macro')\n",
    "    class_report = classification_report(all_labels, all_preds, labels=[0,1,2])\n",
    "    confusion_matrix = confusion_matrix(all_labels, all_preds, labels=[0,1,2])\n",
    "    \n",
    "# Adjusting the index from enumerate to get the count\n",
    "print(f\"Test loss: {total_loss:.4f}\")\n",
    "print(f\"Accuracy of the model on test snapshots: {100 * correct / total:.2f}%\")\n",
    "print(f\"Precision: {precision:.4f}\")\n",
    "print(f\"Recall: {recall:.4f}\")\n",
    "print(f\"F1 Score: {f1:.4f}\")"
   ],
   "metadata": {
    "collapsed": false,
    "ExecuteTime": {
     "end_time": "2023-09-15T17:35:58.014218300Z",
     "start_time": "2023-09-15T17:35:57.892218Z"
    }
   },
   "id": "254ac54b47ae4e12"
  },
  {
   "cell_type": "code",
   "execution_count": 15,
   "outputs": [
    {
     "data": {
      "text/plain": "<Figure size 640x480 with 2 Axes>",
      "image/png": "[encoded data removed]"
     },
     "metadata": {},
     "output_type": "display_data"
    }
   ],
   "source": [
    "# Plot of the confusion matrix to a heatmap\n",
    "df_cm = pd.DataFrame(confusion_matrix, range(3), range(3))\n",
    "ax= plt.subplot()\n",
    "sns.set(font_scale=1.2)\n",
    "sns.heatmap(df_cm, cmap=\"coolwarm\", annot=True, annot_kws={\"size\": 16}, fmt='d', ax = ax)\n",
    "plt.title('Confusion Matrix')\n",
    "ax.set_xlabel('Predicted Values')\n",
    "ax.set_ylabel('True Values')\n",
    "ax.set_title('Confusion Matrix using EvolveGCNO')\n",
    "bottom, top = ax.get_ylim()\n",
    "ax.set_ylim(bottom + 0.5, top - 0.5)\n",
    "plt.show()"
   ],
   "metadata": {
    "collapsed": false,
    "ExecuteTime": {
     "end_time": "2023-09-15T17:35:58.265315300Z",
     "start_time": "2023-09-15T17:35:58.015219200Z"
    }
   },
   "id": "3cd6d7d8d7a7c89"
  },
  {
   "cell_type": "code",
   "execution_count": 16,
   "outputs": [
    {
     "data": {
      "text/plain": "<Figure size 640x480 with 1 Axes>",
      "image/png": "[encoded data removed]"
     },
     "metadata": {},
     "output_type": "display_data"
    }
   ],
   "source": [
    "plt.plot(losses)\n",
    "plt.xlabel('Epoch')\n",
    "plt.ylabel('Loss')\n",
    "plt.title('EvolveGCNO Training Loss Curve')\n",
    "plt.show()"
   ],
   "metadata": {
    "collapsed": false,
    "ExecuteTime": {
     "end_time": "2023-09-15T17:35:58.491314200Z",
     "start_time": "2023-09-15T17:35:58.267315800Z"
    }
   },
   "id": "7c05baea9cb29aed"
  }
 ],
 "metadata": {
  "kernelspec": {
   "display_name": "Python 3",
   "language": "python",
   "name": "python3"
  },
  "language_info": {
   "codemirror_mode": {
    "name": "ipython",
    "version": 2
   },
   "file_extension": ".py",
   "mimetype": "text/x-python",
   "name": "python",
   "nbconvert_exporter": "python",
   "pygments_lexer": "ipython2",
   "version": "2.7.6"
  }
 },
 "nbformat": 4,
 "nbformat_minor": 5
}
