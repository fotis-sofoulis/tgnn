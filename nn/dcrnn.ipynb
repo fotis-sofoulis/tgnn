{
 "cells": [
  {
   "cell_type": "markdown",
   "source": [
    "## Imports"
   ],
   "metadata": {
    "collapsed": false
   },
   "id": "74a3149c71ff2856"
  },
  {
   "cell_type": "code",
   "execution_count": 1,
   "outputs": [],
   "source": [
    "import pandas as pd\n",
    "import numpy as np\n",
    "import torch\n",
    "import matplotlib.pyplot as plt\n",
    "import seaborn as sns"
   ],
   "metadata": {
    "collapsed": false,
    "ExecuteTime": {
     "end_time": "2023-09-15T17:23:47.517585400Z",
     "start_time": "2023-09-15T17:23:45.504586Z"
    }
   },
   "id": "abd431e064d77f9c"
  },
  {
   "cell_type": "code",
   "execution_count": 2,
   "outputs": [],
   "source": [
    "# Load the data from CSV\n",
    "df = pd.read_csv('data/CollegeMsgClustered.csv')"
   ],
   "metadata": {
    "collapsed": false,
    "ExecuteTime": {
     "end_time": "2023-09-15T17:23:47.533586500Z",
     "start_time": "2023-09-15T17:23:47.520585800Z"
    }
   },
   "id": "8eff2e42bc396cb2"
  },
  {
   "cell_type": "code",
   "execution_count": 3,
   "outputs": [],
   "source": [
    "def bucket_to_snapshot(bucket_df):\n",
    "    # Combining src and dst to generate unique node set\n",
    "    nodes_df = bucket_df[['src_id', 'src_cluster']].rename(columns={'src_id': 'id', 'src_cluster': 'cluster'})\n",
    "    nodes_df = nodes_df.append(bucket_df[['dst_id', 'dst_cluster']].rename(columns={'dst_id': 'id', 'dst_cluster': 'cluster'}))\n",
    "    nodes_df = nodes_df.drop_duplicates()\n",
    "    \n",
    "    # Mapping each unique node to a unique index\n",
    "    node_indices = {node_id: idx for idx, node_id in enumerate(nodes_df['id'].unique())}\n",
    "    \n",
    "    # Edge indices based on the newly mapped indices\n",
    "    edge_index = np.array(list(zip(bucket_df[\"src_id\"].map(node_indices), bucket_df[\"dst_id\"].map(node_indices)))).T\n",
    "\n",
    "    # Generate node features based on clusters\n",
    "    node_features = nodes_df[['cluster']].to_numpy(dtype=np.float32)\n",
    "    \n",
    "    targets = nodes_df['cluster'].to_numpy(dtype=np.float32)\n",
    "\n",
    "    edge_weight = np.ones(edge_index.shape[1], dtype=np.float32)\n",
    "    \n",
    "    return edge_index, node_features, edge_weight, targets"
   ],
   "metadata": {
    "collapsed": false,
    "ExecuteTime": {
     "end_time": "2023-09-15T17:23:47.564592800Z",
     "start_time": "2023-09-15T17:23:47.538587500Z"
    }
   },
   "id": "cae8350beaef356c"
  },
  {
   "cell_type": "code",
   "execution_count": 4,
   "outputs": [],
   "source": [
    "snapshots = []\n",
    "for bucket_id in df[\"bucket_id\"].unique():\n",
    "    edge_index, node_features, edge_weight , targets= bucket_to_snapshot(df[df[\"bucket_id\"] == bucket_id])\n",
    "    snapshots.append((edge_index, node_features, edge_weight, targets))"
   ],
   "metadata": {
    "collapsed": false,
    "ExecuteTime": {
     "end_time": "2023-09-15T17:23:47.612585400Z",
     "start_time": "2023-09-15T17:23:47.553591200Z"
    }
   },
   "id": "2e2afddb1fd21072"
  },
  {
   "cell_type": "code",
   "execution_count": 5,
   "outputs": [],
   "source": [
    "# Convert snapshots to StaticGraphTemporalSignal\n",
    "edge_indices = [np.array(s[0]) for s in snapshots]\n",
    "node_features = [np.array(s[1]) for s in snapshots]\n",
    "edge_weights = [np.array(s[2]) for s in snapshots]\n",
    "targets = [np.array(s[3]) for s in snapshots]"
   ],
   "metadata": {
    "collapsed": false,
    "ExecuteTime": {
     "end_time": "2023-09-15T17:23:47.628587800Z",
     "start_time": "2023-09-15T17:23:47.617588Z"
    }
   },
   "id": "3b4c349f9e6679bf"
  },
  {
   "cell_type": "code",
   "execution_count": 6,
   "outputs": [
    {
     "name": "stdout",
     "output_type": "stream",
     "text": [
      "x=(5, 1),edge_index=(2, 3), edge_weight=(3,), targets=(5,)\n",
      "x=(29, 1),edge_index=(2, 23), edge_weight=(23,), targets=(29,)\n",
      "x=(37, 1),edge_index=(2, 28), edge_weight=(28,), targets=(37,)\n",
      "x=(43, 1),edge_index=(2, 37), edge_weight=(37,), targets=(43,)\n",
      "x=(62, 1),edge_index=(2, 60), edge_weight=(60,), targets=(62,)\n",
      "x=(91, 1),edge_index=(2, 125), edge_weight=(125,), targets=(91,)\n",
      "x=(85, 1),edge_index=(2, 124), edge_weight=(124,), targets=(85,)\n",
      "x=(95, 1),edge_index=(2, 145), edge_weight=(145,), targets=(95,)\n",
      "x=(107, 1),edge_index=(2, 169), edge_weight=(169,), targets=(107,)\n",
      "x=(107, 1),edge_index=(2, 183), edge_weight=(183,), targets=(107,)\n"
     ]
    }
   ],
   "source": [
    "for i, idx in enumerate(node_features):\n",
    "    print(f\"x={node_features[i].shape},edge_index={edge_indices[i].shape}, edge_weight=\"\n",
    "          f\"{edge_weights[i].shape}, targets={targets[i].shape}\")"
   ],
   "metadata": {
    "collapsed": false,
    "ExecuteTime": {
     "end_time": "2023-09-15T17:23:47.673585700Z",
     "start_time": "2023-09-15T17:23:47.630587Z"
    }
   },
   "id": "bfdbd81c76d88a6"
  },
  {
   "cell_type": "code",
   "execution_count": 7,
   "outputs": [],
   "source": [
    "from torch_geometric_temporal import DynamicGraphTemporalSignal\n",
    "\n",
    "dataset = DynamicGraphTemporalSignal(edge_indices=edge_indices, edge_weights=edge_weights, features=node_features, targets=targets)"
   ],
   "metadata": {
    "collapsed": false,
    "ExecuteTime": {
     "end_time": "2023-09-15T17:23:48.341859300Z",
     "start_time": "2023-09-15T17:23:47.647589500Z"
    }
   },
   "id": "7a6212a185331a96"
  },
  {
   "cell_type": "code",
   "execution_count": 8,
   "outputs": [
    {
     "name": "stdout",
     "output_type": "stream",
     "text": [
      "Number of train buckets:  8\n",
      "Number of test buckets:  2\n"
     ]
    }
   ],
   "source": [
    "from torch_geometric_temporal.signal import temporal_signal_split\n",
    "\n",
    "# Split the StaticGraphTemporalSignal\n",
    "train_dataset, test_dataset = temporal_signal_split(dataset, 0.8)\n",
    "\n",
    "print(\"Number of train buckets: \", len(train_dataset.features))\n",
    "print(\"Number of test buckets: \", len(test_dataset.features))   "
   ],
   "metadata": {
    "collapsed": false,
    "ExecuteTime": {
     "end_time": "2023-09-15T17:23:48.361859600Z",
     "start_time": "2023-09-15T17:23:48.342860600Z"
    }
   },
   "id": "af360e26267f5490"
  },
  {
   "cell_type": "code",
   "execution_count": 1,
   "outputs": [
    {
     "ename": "KeyboardInterrupt",
     "evalue": "",
     "output_type": "error",
     "traceback": [
      "\u001B[1;31m---------------------------------------------------------------------------\u001B[0m",
      "\u001B[1;31mKeyboardInterrupt\u001B[0m                         Traceback (most recent call last)",
      "Cell \u001B[1;32mIn[1], line 1\u001B[0m\n\u001B[1;32m----> 1\u001B[0m \u001B[38;5;28;01mimport\u001B[39;00m \u001B[38;5;21;01mtorch\u001B[39;00m\u001B[38;5;21;01m.\u001B[39;00m\u001B[38;5;21;01mnn\u001B[39;00m\u001B[38;5;21;01m.\u001B[39;00m\u001B[38;5;21;01mfunctional\u001B[39;00m \u001B[38;5;28;01mas\u001B[39;00m \u001B[38;5;21;01mF\u001B[39;00m\n\u001B[0;32m      2\u001B[0m \u001B[38;5;28;01mfrom\u001B[39;00m \u001B[38;5;21;01mtorch_geometric_temporal\u001B[39;00m\u001B[38;5;21;01m.\u001B[39;00m\u001B[38;5;21;01mnn\u001B[39;00m \u001B[38;5;28;01mimport\u001B[39;00m DCRNN\n\u001B[0;32m      4\u001B[0m \u001B[38;5;66;03m# 2. Model Definition\u001B[39;00m\n",
      "File \u001B[1;32m~\\PycharmProjects\\tgnn\\venv\\lib\\site-packages\\torch\\__init__.py:1465\u001B[0m\n\u001B[0;32m   1463\u001B[0m \u001B[38;5;28;01mfrom\u001B[39;00m \u001B[38;5;21;01m.\u001B[39;00m \u001B[38;5;28;01mimport\u001B[39;00m library\n\u001B[0;32m   1464\u001B[0m \u001B[38;5;28;01mif\u001B[39;00m \u001B[38;5;129;01mnot\u001B[39;00m TYPE_CHECKING:\n\u001B[1;32m-> 1465\u001B[0m     \u001B[38;5;28;01mfrom\u001B[39;00m \u001B[38;5;21;01m.\u001B[39;00m \u001B[38;5;28;01mimport\u001B[39;00m _meta_registrations\n\u001B[0;32m   1467\u001B[0m \u001B[38;5;66;03m# Enable CUDA Sanitizer\u001B[39;00m\n\u001B[0;32m   1468\u001B[0m \u001B[38;5;28;01mif\u001B[39;00m \u001B[38;5;124m'\u001B[39m\u001B[38;5;124mTORCH_CUDA_SANITIZER\u001B[39m\u001B[38;5;124m'\u001B[39m \u001B[38;5;129;01min\u001B[39;00m os\u001B[38;5;241m.\u001B[39menviron:\n",
      "File \u001B[1;32m~\\PycharmProjects\\tgnn\\venv\\lib\\site-packages\\torch\\_meta_registrations.py:616\u001B[0m\n\u001B[0;32m    612\u001B[0m     \u001B[38;5;28;01mreturn\u001B[39;00m out\n\u001B[0;32m    615\u001B[0m \u001B[38;5;28;01mif\u001B[39;00m torch\u001B[38;5;241m.\u001B[39m_C\u001B[38;5;241m.\u001B[39mhas_mkldnn:\n\u001B[1;32m--> 616\u001B[0m     _meta_lib_dont_use_me_use_register_meta_for_mkldnn \u001B[38;5;241m=\u001B[39m \u001B[43mtorch\u001B[49m\u001B[38;5;241;43m.\u001B[39;49m\u001B[43mlibrary\u001B[49m\u001B[38;5;241;43m.\u001B[39;49m\u001B[43mLibrary\u001B[49m\u001B[43m(\u001B[49m\n\u001B[0;32m    617\u001B[0m \u001B[43m        \u001B[49m\u001B[38;5;124;43m\"\u001B[39;49m\u001B[38;5;124;43mmkldnn\u001B[39;49m\u001B[38;5;124;43m\"\u001B[39;49m\u001B[43m,\u001B[49m\u001B[43m \u001B[49m\u001B[38;5;124;43m\"\u001B[39;49m\u001B[38;5;124;43mIMPL\u001B[39;49m\u001B[38;5;124;43m\"\u001B[39;49m\u001B[43m,\u001B[49m\u001B[43m \u001B[49m\u001B[38;5;124;43m\"\u001B[39;49m\u001B[38;5;124;43mMeta\u001B[39;49m\u001B[38;5;124;43m\"\u001B[39;49m\n\u001B[0;32m    618\u001B[0m \u001B[43m    \u001B[49m\u001B[43m)\u001B[49m\n\u001B[0;32m    620\u001B[0m     \u001B[38;5;28;01mdef\u001B[39;00m \u001B[38;5;21mpick_mkldnn_conv_memory_format\u001B[39m(input_tensor, weight):\n\u001B[0;32m    621\u001B[0m         \u001B[38;5;28;01mif\u001B[39;00m weight\u001B[38;5;241m.\u001B[39mis_mkldnn:\n",
      "File \u001B[1;32m~\\PycharmProjects\\tgnn\\venv\\lib\\site-packages\\torch\\library.py:39\u001B[0m, in \u001B[0;36mLibrary.__init__\u001B[1;34m(self, ns, kind, dispatch_key)\u001B[0m\n\u001B[0;32m     36\u001B[0m \u001B[38;5;28;01mif\u001B[39;00m ns \u001B[38;5;129;01min\u001B[39;00m _reserved_namespaces \u001B[38;5;129;01mand\u001B[39;00m kind \u001B[38;5;241m==\u001B[39m \u001B[38;5;124m\"\u001B[39m\u001B[38;5;124mDEF\u001B[39m\u001B[38;5;124m\"\u001B[39m:\n\u001B[0;32m     37\u001B[0m     \u001B[38;5;28;01mraise\u001B[39;00m \u001B[38;5;167;01mValueError\u001B[39;00m(ns, \u001B[38;5;124m\"\u001B[39m\u001B[38;5;124m is a reserved namespace. Please try creating a library with another name.\u001B[39m\u001B[38;5;124m\"\u001B[39m)\n\u001B[1;32m---> 39\u001B[0m frame \u001B[38;5;241m=\u001B[39m \u001B[43mtraceback\u001B[49m\u001B[38;5;241;43m.\u001B[39;49m\u001B[43mextract_stack\u001B[49m\u001B[43m(\u001B[49m\u001B[43mlimit\u001B[49m\u001B[38;5;241;43m=\u001B[39;49m\u001B[38;5;241;43m3\u001B[39;49m\u001B[43m)\u001B[49m[\u001B[38;5;241m0\u001B[39m]\n\u001B[0;32m     40\u001B[0m filename, lineno \u001B[38;5;241m=\u001B[39m frame\u001B[38;5;241m.\u001B[39mfilename, frame\u001B[38;5;241m.\u001B[39mlineno\n\u001B[0;32m     41\u001B[0m \u001B[38;5;28mself\u001B[39m\u001B[38;5;241m.\u001B[39mm \u001B[38;5;241m=\u001B[39m torch\u001B[38;5;241m.\u001B[39m_C\u001B[38;5;241m.\u001B[39m_dispatch_library(kind, ns, dispatch_key, filename, lineno)\n",
      "File \u001B[1;32m~\\AppData\\Local\\Programs\\Python\\Python39\\lib\\traceback.py:211\u001B[0m, in \u001B[0;36mextract_stack\u001B[1;34m(f, limit)\u001B[0m\n\u001B[0;32m    209\u001B[0m \u001B[38;5;28;01mif\u001B[39;00m f \u001B[38;5;129;01mis\u001B[39;00m \u001B[38;5;28;01mNone\u001B[39;00m:\n\u001B[0;32m    210\u001B[0m     f \u001B[38;5;241m=\u001B[39m sys\u001B[38;5;241m.\u001B[39m_getframe()\u001B[38;5;241m.\u001B[39mf_back\n\u001B[1;32m--> 211\u001B[0m stack \u001B[38;5;241m=\u001B[39m \u001B[43mStackSummary\u001B[49m\u001B[38;5;241;43m.\u001B[39;49m\u001B[43mextract\u001B[49m\u001B[43m(\u001B[49m\u001B[43mwalk_stack\u001B[49m\u001B[43m(\u001B[49m\u001B[43mf\u001B[49m\u001B[43m)\u001B[49m\u001B[43m,\u001B[49m\u001B[43m \u001B[49m\u001B[43mlimit\u001B[49m\u001B[38;5;241;43m=\u001B[39;49m\u001B[43mlimit\u001B[49m\u001B[43m)\u001B[49m\n\u001B[0;32m    212\u001B[0m stack\u001B[38;5;241m.\u001B[39mreverse()\n\u001B[0;32m    213\u001B[0m \u001B[38;5;28;01mreturn\u001B[39;00m stack\n",
      "File \u001B[1;32m~\\AppData\\Local\\Programs\\Python\\Python39\\lib\\traceback.py:362\u001B[0m, in \u001B[0;36mStackSummary.extract\u001B[1;34m(klass, frame_gen, limit, lookup_lines, capture_locals)\u001B[0m\n\u001B[0;32m    359\u001B[0m     result\u001B[38;5;241m.\u001B[39mappend(FrameSummary(\n\u001B[0;32m    360\u001B[0m         filename, lineno, name, lookup_line\u001B[38;5;241m=\u001B[39m\u001B[38;5;28;01mFalse\u001B[39;00m, \u001B[38;5;28mlocals\u001B[39m\u001B[38;5;241m=\u001B[39mf_locals))\n\u001B[0;32m    361\u001B[0m \u001B[38;5;28;01mfor\u001B[39;00m filename \u001B[38;5;129;01min\u001B[39;00m fnames:\n\u001B[1;32m--> 362\u001B[0m     \u001B[43mlinecache\u001B[49m\u001B[38;5;241;43m.\u001B[39;49m\u001B[43mcheckcache\u001B[49m\u001B[43m(\u001B[49m\u001B[43mfilename\u001B[49m\u001B[43m)\u001B[49m\n\u001B[0;32m    363\u001B[0m \u001B[38;5;66;03m# If immediate lookup was desired, trigger lookups now.\u001B[39;00m\n\u001B[0;32m    364\u001B[0m \u001B[38;5;28;01mif\u001B[39;00m lookup_lines:\n",
      "File \u001B[1;32m~\\AppData\\Local\\Programs\\Python\\Python39\\lib\\linecache.py:72\u001B[0m, in \u001B[0;36mcheckcache\u001B[1;34m(filename)\u001B[0m\n\u001B[0;32m     70\u001B[0m     \u001B[38;5;28;01mcontinue\u001B[39;00m   \u001B[38;5;66;03m# no-op for files loaded via a __loader__\u001B[39;00m\n\u001B[0;32m     71\u001B[0m \u001B[38;5;28;01mtry\u001B[39;00m:\n\u001B[1;32m---> 72\u001B[0m     stat \u001B[38;5;241m=\u001B[39m \u001B[43mos\u001B[49m\u001B[38;5;241;43m.\u001B[39;49m\u001B[43mstat\u001B[49m\u001B[43m(\u001B[49m\u001B[43mfullname\u001B[49m\u001B[43m)\u001B[49m\n\u001B[0;32m     73\u001B[0m \u001B[38;5;28;01mexcept\u001B[39;00m \u001B[38;5;167;01mOSError\u001B[39;00m:\n\u001B[0;32m     74\u001B[0m     cache\u001B[38;5;241m.\u001B[39mpop(filename, \u001B[38;5;28;01mNone\u001B[39;00m)\n",
      "\u001B[1;31mKeyboardInterrupt\u001B[0m: "
     ]
    }
   ],
   "source": [
    "import torch.nn.functional as F\n",
    "from torch_geometric_temporal.nn import DCRNN\n",
    "\n",
    "# 2. Model Definition\n",
    "class DCRNN(torch.nn.Module):\n",
    "    def __init__(self, node_features, num_classes):\n",
    "        super(DCRNN, self).__init__()\n",
    "        self.recurrent = DCRNN(node_features, 32, 1)\n",
    "        self.linear = torch.nn.Linear(32, num_classes)\n",
    "\n",
    "    def forward(self, x, edge_index, edge_weight):\n",
    "        h = self.recurrent(x, edge_index, edge_weight)\n",
    "        h = F.relu(h)\n",
    "        h = self.linear(h)\n",
    "        return h"
   ],
   "metadata": {
    "collapsed": false,
    "ExecuteTime": {
     "end_time": "2023-09-15T17:35:19.722693700Z",
     "start_time": "2023-09-15T17:35:16.625696100Z"
    }
   },
   "id": "97cf08561b7d5bbf"
  },
  {
   "cell_type": "code",
   "execution_count": 25,
   "outputs": [],
   "source": [
    "device = torch.device('cuda' if torch.cuda.is_available() else 'cpu')"
   ],
   "metadata": {
    "collapsed": false,
    "ExecuteTime": {
     "end_time": "2023-09-15T17:30:35.041344600Z",
     "start_time": "2023-09-15T17:30:35.022344800Z"
    }
   },
   "id": "89604611dc7b28a1"
  },
  {
   "cell_type": "code",
   "execution_count": 26,
   "outputs": [
    {
     "data": {
      "text/plain": "EvolveGCNN(\n  (recurrent): DCRNN(\n    (conv_x_z): DConv(33, 32)\n    (conv_x_r): DConv(33, 32)\n    (conv_x_h): DConv(33, 32)\n  )\n  (linear): Linear(in_features=32, out_features=3, bias=True)\n)"
     },
     "execution_count": 26,
     "metadata": {},
     "output_type": "execute_result"
    }
   ],
   "source": [
    "# Number of features and classes based on dataset\n",
    "node_features = train_dataset.features[0].shape[1]\n",
    "num_classes = 3\n",
    "\n",
    "model = DCRNN(node_features, num_classes).to(device)\n",
    "optimizer = torch.optim.Adam(model.parameters(), lr=0.01)\n",
    "loss_fn = torch.nn.CrossEntropyLoss()\n",
    "model.train()"
   ],
   "metadata": {
    "collapsed": false,
    "ExecuteTime": {
     "end_time": "2023-09-15T17:30:43.904524700Z",
     "start_time": "2023-09-15T17:30:43.893529Z"
    }
   },
   "id": "668d227f2489b4af"
  },
  {
   "cell_type": "code",
   "execution_count": 27,
   "outputs": [],
   "source": [
    "# for snapshot in train_dataset:\n",
    "#     x = snapshot.x.to(device)  # using dot notation for accessing attributes\n",
    "#     edge_index = snapshot.edge_index.to(device)\n",
    "#     edge_weight = snapshot.edge_attr.to(device)  # Assuming edge_attr is edge_weight\n",
    "#     y = snapshot.y.to(device)\n",
    "#     \n",
    "#     out = model(x, edge_index, edge_weight)\n",
    "#     loss = F.cross_entropy(out,y)\n",
    "#     print(loss)"
   ],
   "metadata": {
    "collapsed": false,
    "ExecuteTime": {
     "end_time": "2023-09-15T17:31:05.797951700Z",
     "start_time": "2023-09-15T17:31:05.780954200Z"
    }
   },
   "id": "573f28430440dc19"
  },
  {
   "cell_type": "code",
   "execution_count": 28,
   "outputs": [
    {
     "name": "stdout",
     "output_type": "stream",
     "text": [
      "Running training...\n",
      "Epoch 0, Loss: 7.7611\n",
      "Epoch 10, Loss: 1.1776\n",
      "Epoch 20, Loss: 0.6432\n",
      "Epoch 30, Loss: 0.2792\n",
      "Epoch 40, Loss: 0.1271\n",
      "Epoch 50, Loss: 0.0745\n",
      "Epoch 60, Loss: 0.0500\n",
      "Epoch 70, Loss: 0.0364\n",
      "Epoch 80, Loss: 0.0278\n",
      "Epoch 90, Loss: 0.0220\n",
      "Epoch 100, Loss: 0.0179\n",
      "Epoch 110, Loss: 0.0148\n",
      "Epoch 120, Loss: 0.0125\n",
      "Epoch 130, Loss: 0.0107\n",
      "Epoch 140, Loss: 0.0093\n",
      "Epoch 150, Loss: 0.0081\n",
      "Epoch 160, Loss: 0.0071\n",
      "Epoch 170, Loss: 0.0063\n",
      "Epoch 180, Loss: 0.0056\n",
      "Epoch 190, Loss: 0.0050\n"
     ]
    }
   ],
   "source": [
    "# 3. Training Loop\n",
    "losses = []\n",
    "print(\"Running training...\")\n",
    "for epoch in range(200):\n",
    "\n",
    "    total_loss = 0\n",
    "    snapshot_count = 0\n",
    "    for step, snapshot in enumerate(train_dataset):\n",
    "        snapshot_count += 1\n",
    "        optimizer.zero_grad()\n",
    "        x = snapshot.x.to(device)  # using dot notation for accessing attributes\n",
    "        edge_index = snapshot.edge_index.to(device)\n",
    "        edge_weight = snapshot.edge_attr.to(device)  # Assuming edge_attr is edge_weight\n",
    "        y_to_long = snapshot.y.type(torch.LongTensor)\n",
    "        y = y_to_long.to(device)\n",
    "\n",
    "        out = model(x, edge_index, edge_weight)\n",
    "        loss = loss_fn(out,y)\n",
    "\n",
    "        loss.backward()\n",
    "        optimizer.step()\n",
    "\n",
    "        total_loss += loss.item()\n",
    "\n",
    "        number_of_snapshots = step + 1\n",
    "    average_loss = total_loss / snapshot_count  # Compute average loss for the epoch\n",
    "    losses.append(average_loss)\n",
    "\n",
    "    if epoch % 10 == 0:\n",
    "        print(f\"Epoch {epoch}, Loss: {total_loss:.4f}\")"
   ],
   "metadata": {
    "collapsed": false,
    "ExecuteTime": {
     "end_time": "2023-09-15T17:31:19.756243200Z",
     "start_time": "2023-09-15T17:31:06.279097300Z"
    }
   },
   "id": "5ec4664df147d5d2"
  },
  {
   "cell_type": "code",
   "execution_count": 29,
   "outputs": [
    {
     "name": "stdout",
     "output_type": "stream",
     "text": [
      "Test loss: 0.0009\n",
      "Accuracy of the model on test snapshots: 100.00%\n",
      "Precision: 1.0000\n",
      "Recall: 1.0000\n",
      "F1 Score: 1.0000\n"
     ]
    }
   ],
   "source": [
    "from sklearn.metrics import precision_score, recall_score, f1_score, classification_report, confusion_matrix\n",
    "\n",
    "model.eval()  # Set the model to evaluation mode\n",
    "correct = 0\n",
    "total = 0\n",
    "total_loss = 0\n",
    "\n",
    "all_preds = []\n",
    "all_labels = []\n",
    "\n",
    "with torch.no_grad():  # During evaluation, no gradients are computed\n",
    "    for step, snapshot in enumerate(test_dataset):\n",
    "        x = snapshot.x.to(device)\n",
    "        edge_index = snapshot.edge_index.to(device)\n",
    "        edge_weight = snapshot.edge_attr.to(device)\n",
    "        y_to_long = snapshot.y.type(torch.LongTensor)\n",
    "        y = y_to_long.to(device)\n",
    "\n",
    "        # Forward pass\n",
    "        out = model(x, edge_index, edge_weight)\n",
    "        loss = loss_fn(out,y)\n",
    "        total_loss += loss.item()\n",
    "        \n",
    "        # Get predictions from the maximum value\n",
    "        _, predicted = torch.max(out.data, 1)\n",
    "\n",
    "        # Total number of labels\n",
    "        total += y.size(0)\n",
    "\n",
    "        # Total correct predictions\n",
    "        correct += (predicted == y).sum().item()\n",
    "        \n",
    "        all_preds.extend(predicted.cpu().numpy())\n",
    "        all_labels.extend(y.cpu().numpy())\n",
    "        number_of_snapshots = step + 1\n",
    "        total_loss = total_loss / number_of_snapshots\n",
    "    \n",
    "    \n",
    "    precision = precision_score(all_labels, all_preds, average='macro')\n",
    "    recall = recall_score(all_labels, all_preds, average='macro')\n",
    "    f1 = f1_score(all_labels, all_preds, average='macro')\n",
    "    class_report = classification_report(all_labels, all_preds, labels=[0,1,2])\n",
    "    confusion_matrix = confusion_matrix(all_labels, all_preds, labels=[0,1,2])\n",
    "    \n",
    "# Adjusting the index from enumerate to get the count\n",
    "print(f\"Test loss: {total_loss:.4f}\")\n",
    "print(f\"Accuracy of the model on test snapshots: {100 * correct / total:.2f}%\")\n",
    "print(f\"Precision: {precision:.4f}\")\n",
    "print(f\"Recall: {recall:.4f}\")\n",
    "print(f\"F1 Score: {f1:.4f}\")"
   ],
   "metadata": {
    "collapsed": false,
    "ExecuteTime": {
     "end_time": "2023-09-15T17:31:22.749896700Z",
     "start_time": "2023-09-15T17:31:22.667887200Z"
    }
   },
   "id": "254ac54b47ae4e12"
  },
  {
   "cell_type": "code",
   "execution_count": 30,
   "outputs": [
    {
     "data": {
      "text/plain": "<Figure size 640x480 with 2 Axes>",
      "image/png": "[encoded data removed]"
     },
     "metadata": {},
     "output_type": "display_data"
    }
   ],
   "source": [
    "# Plot of the confusion matrix to a heatmap\n",
    "df_cm = pd.DataFrame(confusion_matrix, range(3), range(3))\n",
    "ax= plt.subplot()\n",
    "sns.set(font_scale=1.2)\n",
    "sns.heatmap(df_cm, cmap=\"coolwarm\", annot=True, annot_kws={\"size\": 16}, fmt='d', ax = ax)\n",
    "plt.title('Confusion Matrix')\n",
    "ax.set_xlabel('Predicted Values')\n",
    "ax.set_ylabel('True Values')\n",
    "ax.set_title('Confusion Matrix using DCRNN')\n",
    "bottom, top = ax.get_ylim()\n",
    "ax.set_ylim(bottom + 0.5, top - 0.5)\n",
    "plt.show()"
   ],
   "metadata": {
    "collapsed": false,
    "ExecuteTime": {
     "end_time": "2023-09-15T17:31:25.733231900Z",
     "start_time": "2023-09-15T17:31:25.507236Z"
    }
   },
   "id": "3cd6d7d8d7a7c89"
  },
  {
   "cell_type": "code",
   "execution_count": 31,
   "outputs": [
    {
     "data": {
      "text/plain": "<Figure size 640x480 with 1 Axes>",
      "image/png": "[encoded data removed]"
     },
     "metadata": {},
     "output_type": "display_data"
    }
   ],
   "source": [
    "plt.plot(losses)\n",
    "plt.xlabel('Epoch')\n",
    "plt.ylabel('Loss')\n",
    "plt.title('DCRNN Training Loss Curve')\n",
    "plt.show()"
   ],
   "metadata": {
    "collapsed": false,
    "ExecuteTime": {
     "end_time": "2023-09-15T17:31:29.393636800Z",
     "start_time": "2023-09-15T17:31:29.160638700Z"
    }
   },
   "id": "7c05baea9cb29aed"
  }
 ],
 "metadata": {
  "kernelspec": {
   "display_name": "Python 3",
   "language": "python",
   "name": "python3"
  },
  "language_info": {
   "codemirror_mode": {
    "name": "ipython",
    "version": 2
   },
   "file_extension": ".py",
   "mimetype": "text/x-python",
   "name": "python",
   "nbconvert_exporter": "python",
   "pygments_lexer": "ipython2",
   "version": "2.7.6"
  }
 },
 "nbformat": 4,
 "nbformat_minor": 5
}
