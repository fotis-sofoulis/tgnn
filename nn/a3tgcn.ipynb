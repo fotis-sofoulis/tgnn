{
 "cells": [
  {
   "cell_type": "code",
   "execution_count": 34,
   "outputs": [],
   "source": [
    "import pandas as pd\n",
    "import numpy as np\n",
    "import torch\n",
    "from torch_geometric_temporal import DynamicGraphTemporalSignal\n",
    "from torch_geometric_temporal.signal import temporal_signal_split\n",
    "import torch.nn.functional as F\n",
    "from torch_geometric_temporal.nn import A3TGCN\n",
    "import matplotlib.pyplot as plt\n",
    "import seaborn as sns"
   ],
   "metadata": {
    "collapsed": false,
    "ExecuteTime": {
     "end_time": "2023-09-15T17:08:16.623825800Z",
     "start_time": "2023-09-15T17:08:16.342828800Z"
    }
   },
   "id": "2b2eb42f3cd8c1e0"
  },
  {
   "cell_type": "code",
   "execution_count": 2,
   "outputs": [],
   "source": [
    "# Load the data from CSV\n",
    "df = pd.read_csv('data/CollegeMsgClustered.csv')\n",
    "max_nodes = 0\n",
    "max_edges = 0"
   ],
   "metadata": {
    "collapsed": false,
    "ExecuteTime": {
     "end_time": "2023-09-15T07:58:47.923091300Z",
     "start_time": "2023-09-15T07:58:47.900095500Z"
    }
   },
   "id": "d0117103be49d98f"
  },
  {
   "cell_type": "code",
   "execution_count": 3,
   "outputs": [],
   "source": [
    "node_cluster_labels = []\n",
    "\n",
    "for bucket_id in df[\"bucket_id\"].unique():\n",
    "    bucket_data = df[df[\"bucket_id\"] == bucket_id]\n",
    "\n",
    "    # Creating a mapping of node_id to its cluster label for this bucket\n",
    "    src_cluster_map = dict(zip(bucket_data[\"src_id\"], bucket_data[\"src_cluster\"]))\n",
    "    dst_cluster_map = dict(zip(bucket_data[\"dst_id\"], bucket_data[\"dst_cluster\"]))\n",
    "\n",
    "    # Combining both maps. If a node appears as both src and dst, one of the labels will overwrite the other.\n",
    "    # This assumes that a node can't be both src and dst with different clusters in the same bucket.\n",
    "    combined_map = {**src_cluster_map, **dst_cluster_map}\n",
    "\n",
    "    # Extracting nodes and their corresponding cluster labels\n",
    "    nodes = list(combined_map.keys())\n",
    "    clusters = [combined_map[node] for node in nodes]\n",
    "\n",
    "    max_nodes = max(max_nodes, len(nodes))\n",
    "    max_edges = max(max_edges, len(bucket_data))\n",
    "\n",
    "    node_cluster_labels.append(np.array(clusters))\n",
    "\n",
    "max_clusters = max([len(labels) for labels in node_cluster_labels])  # maximum nodes having cluster labels"
   ],
   "metadata": {
    "collapsed": false,
    "ExecuteTime": {
     "end_time": "2023-09-15T07:58:47.942099Z",
     "start_time": "2023-09-15T07:58:47.917091Z"
    }
   },
   "id": "abc967aeaac1b188"
  },
  {
   "cell_type": "code",
   "execution_count": 4,
   "outputs": [],
   "source": [
    "def bucket_to_snapshot(bucket_df):\n",
    "    # Combining src and dst to generate unique node set\n",
    "    nodes_df = bucket_df[['src_id', 'src_cluster']].rename(columns={'src_id': 'id', 'src_cluster': 'cluster'})\n",
    "    nodes_df = nodes_df.append(\n",
    "        bucket_df[['dst_id', 'dst_cluster']].rename(columns={'dst_id': 'id', 'dst_cluster': 'cluster'}))\n",
    "    nodes_df = nodes_df.drop_duplicates()\n",
    "\n",
    "    # Mapping each unique node to a unique index\n",
    "    node_indices = {node_id: idx for idx, node_id in enumerate(nodes_df['id'].unique())}\n",
    "\n",
    "    # Edge indices based on the newly mapped indices\n",
    "    edge_index = np.array(list(zip(bucket_df[\"src_id\"].map(node_indices), bucket_df[\"dst_id\"].map(node_indices)))).T\n",
    "\n",
    "    # Generate node features based on clusters\n",
    "    node_features = nodes_df[['cluster']].to_numpy(dtype=np.float32)\n",
    "\n",
    "    targets = nodes_df['cluster'].to_numpy(dtype=np.float32)\n",
    "\n",
    "    edge_weight = np.ones(edge_index.shape[1], dtype=np.float32)\n",
    "\n",
    "    return edge_index, node_features, edge_weight, targets"
   ],
   "metadata": {
    "collapsed": false,
    "ExecuteTime": {
     "end_time": "2023-09-15T07:58:47.959100Z",
     "start_time": "2023-09-15T07:58:47.934089700Z"
    }
   },
   "id": "7d79d7d353cebea9"
  },
  {
   "cell_type": "code",
   "execution_count": 5,
   "outputs": [],
   "source": [
    "snapshots = []\n",
    "for bucket_id in df[\"bucket_id\"].unique():\n",
    "    edge_index, node_features, edge_weight, targets = bucket_to_snapshot(df[df[\"bucket_id\"] == bucket_id])\n",
    "    snapshots.append((edge_index, node_features, edge_weight, targets))"
   ],
   "metadata": {
    "collapsed": false,
    "ExecuteTime": {
     "end_time": "2023-09-15T07:58:48.005099800Z",
     "start_time": "2023-09-15T07:58:47.948100800Z"
    }
   },
   "id": "c8ec8cfec77bc065"
  },
  {
   "cell_type": "code",
   "execution_count": 6,
   "outputs": [],
   "source": [
    "# Convert snapshots to StaticGraphTemporalSignal\n",
    "edge_indices = [np.array(s[0]) for s in snapshots]\n",
    "node_features = [np.array(s[1]) for s in snapshots]\n",
    "edge_weights = [np.array(s[2]) for s in snapshots]\n",
    "targets = [np.array(s[3]) for s in snapshots]"
   ],
   "metadata": {
    "collapsed": false,
    "ExecuteTime": {
     "end_time": "2023-09-15T07:58:48.017099500Z",
     "start_time": "2023-09-15T07:58:47.994100500Z"
    }
   },
   "id": "988ee2b37c65457a"
  },
  {
   "cell_type": "code",
   "execution_count": 7,
   "outputs": [
    {
     "name": "stdout",
     "output_type": "stream",
     "text": [
      "x=(5, 1),edge_index=(2, 3), edge_weight=(3,), targets=(5,)\n",
      "x=(29, 1),edge_index=(2, 23), edge_weight=(23,), targets=(29,)\n",
      "x=(37, 1),edge_index=(2, 28), edge_weight=(28,), targets=(37,)\n",
      "x=(43, 1),edge_index=(2, 37), edge_weight=(37,), targets=(43,)\n",
      "x=(62, 1),edge_index=(2, 60), edge_weight=(60,), targets=(62,)\n",
      "x=(91, 1),edge_index=(2, 125), edge_weight=(125,), targets=(91,)\n",
      "x=(85, 1),edge_index=(2, 124), edge_weight=(124,), targets=(85,)\n",
      "x=(95, 1),edge_index=(2, 145), edge_weight=(145,), targets=(95,)\n",
      "x=(107, 1),edge_index=(2, 169), edge_weight=(169,), targets=(107,)\n",
      "x=(107, 1),edge_index=(2, 183), edge_weight=(183,), targets=(107,)\n"
     ]
    }
   ],
   "source": [
    "for i, idx in enumerate(node_features):\n",
    "    print(f\"x={node_features[i].shape},edge_index={edge_indices[i].shape}, edge_weight=\"\n",
    "          f\"{edge_weights[i].shape}, targets={targets[i].shape}\")"
   ],
   "metadata": {
    "collapsed": false,
    "ExecuteTime": {
     "end_time": "2023-09-15T07:58:48.036115900Z",
     "start_time": "2023-09-15T07:58:48.010105600Z"
    }
   },
   "id": "45de5045fa2886e6"
  },
  {
   "cell_type": "code",
   "execution_count": 8,
   "outputs": [],
   "source": [
    "def pad_data(data, max_size, pad_value=0):\n",
    "    \"\"\"A generic function to pad 1D or 2D data\"\"\"\n",
    "    if len(data.shape) == 1:  # If data is 1D\n",
    "        pad_length = max_size - data.shape[0]\n",
    "        return np.pad(data, (0, pad_length), constant_values=pad_value)\n",
    "    else:  # If data is 2D\n",
    "        pad_length = max_size - data.shape[1]\n",
    "        return np.pad(data, ((0,0),(0,pad_length)), constant_values=pad_value)"
   ],
   "metadata": {
    "collapsed": false,
    "ExecuteTime": {
     "end_time": "2023-09-15T07:58:48.067995900Z",
     "start_time": "2023-09-15T07:58:48.027101800Z"
    }
   },
   "id": "e2e4474df94e2c58"
  },
  {
   "cell_type": "code",
   "execution_count": 9,
   "outputs": [],
   "source": [
    "T = 2  # Adjust this based on how many periods you want to consider.\n",
    "\n",
    "# Step 1: Identify Maximum Node Features\n",
    "max_nodes = max([f.shape[0] for f in node_features])\n",
    "max_features = max([f.shape[1] for f in node_features])\n",
    "\n",
    "# Step 2: Pad all node feature matrices\n",
    "padded_features = [np.pad(f, ((0, max_nodes - f.shape[0]), (0, max_features - f.shape[1]))) for f in node_features]\n",
    "\n",
    "# Step 3: Pad all node cluster arrays\n",
    "padded_features = [np.pad(f, ((0, max_nodes - f.shape[0]), (0, 0))) for f in node_features]\n",
    "padded_targets = [np.pad(t.reshape(-1, 1), ((0, max_nodes - t.shape[0]), (0, 0))) for t in targets]\n",
    "\n",
    "# Padding the list to ensure we can always get T snapshots.\n",
    "node_features_padded = [np.zeros((max_nodes, 1))] * T + padded_features\n",
    "node_targets_padded = [np.zeros((max_nodes, 1))] * T + padded_targets\n",
    "\n",
    "# Now, adjust the shape to [num_nodes, periods]\n",
    "temporal_features = [np.stack(node_features_padded[i-T:i], axis=-1) for i in range(T, len(node_features_padded))]\n",
    "temporal_targets = [np.concatenate(node_targets_padded[i-T:i], axis=-1) for i in range(T, len(node_targets_padded))]\n",
    "\n",
    "# Ensure all lists have the same temporal dimension\n",
    "L = len(temporal_features)\n",
    "edge_indices_padded = [pad_data(ei, max_edges) for ei in edge_indices][:L]\n",
    "edge_weights_padded = [pad_data(ew, max_edges, pad_value=1) for ew in edge_weights][:L]"
   ],
   "metadata": {
    "collapsed": false,
    "ExecuteTime": {
     "end_time": "2023-09-15T07:58:50.413254400Z",
     "start_time": "2023-09-15T07:58:50.391240300Z"
    }
   },
   "id": "13d33190d39a394c"
  },
  {
   "cell_type": "code",
   "execution_count": 10,
   "outputs": [],
   "source": [
    "dataset = DynamicGraphTemporalSignal(edge_indices=edge_indices_padded, edge_weights=edge_weights_padded, features=temporal_features, targets=temporal_targets)"
   ],
   "metadata": {
    "collapsed": false,
    "ExecuteTime": {
     "end_time": "2023-09-15T07:58:52.144839500Z",
     "start_time": "2023-09-15T07:58:52.124839100Z"
    }
   },
   "id": "accb4d0b4cc4f47"
  },
  {
   "cell_type": "code",
   "execution_count": 11,
   "outputs": [
    {
     "name": "stdout",
     "output_type": "stream",
     "text": [
      "Number of train buckets:  8\n",
      "Number of test buckets:  2\n"
     ]
    }
   ],
   "source": [
    "# Split the StaticGraphTemporalSignal\n",
    "train_dataset, test_dataset = temporal_signal_split(dataset, 0.8)\n",
    "\n",
    "print(\"Number of train buckets: \", len(train_dataset.features))\n",
    "print(\"Number of test buckets: \", len(test_dataset.features))   "
   ],
   "metadata": {
    "collapsed": false,
    "ExecuteTime": {
     "end_time": "2023-09-15T07:58:53.053706100Z",
     "start_time": "2023-09-15T07:58:53.024710200Z"
    }
   },
   "id": "92d9fa3ed495dc1a"
  },
  {
   "cell_type": "code",
   "execution_count": 12,
   "outputs": [
    {
     "name": "stdout",
     "output_type": "stream",
     "text": [
      "Data(x=[107, 1, 2], edge_index=[2, 183], edge_attr=[183], y=[107, 2])\n",
      "Data(x=[107, 1, 2], edge_index=[2, 183], edge_attr=[183], y=[107, 2])\n",
      "Data(x=[107, 1, 2], edge_index=[2, 183], edge_attr=[183], y=[107, 2])\n",
      "Data(x=[107, 1, 2], edge_index=[2, 183], edge_attr=[183], y=[107, 2])\n",
      "Data(x=[107, 1, 2], edge_index=[2, 183], edge_attr=[183], y=[107, 2])\n",
      "Data(x=[107, 1, 2], edge_index=[2, 183], edge_attr=[183], y=[107, 2])\n",
      "Data(x=[107, 1, 2], edge_index=[2, 183], edge_attr=[183], y=[107, 2])\n",
      "Data(x=[107, 1, 2], edge_index=[2, 183], edge_attr=[183], y=[107, 2])\n"
     ]
    }
   ],
   "source": [
    "for snapshot in train_dataset:\n",
    "    print(snapshot)"
   ],
   "metadata": {
    "collapsed": false,
    "ExecuteTime": {
     "end_time": "2023-09-15T07:58:57.570714100Z",
     "start_time": "2023-09-15T07:58:57.563716100Z"
    }
   },
   "id": "fa594837f15dc3b"
  },
  {
   "cell_type": "code",
   "execution_count": 13,
   "outputs": [
    {
     "data": {
      "text/plain": "1"
     },
     "execution_count": 13,
     "metadata": {},
     "output_type": "execute_result"
    }
   ],
   "source": [
    "node_features = train_dataset.features[0].shape[1]\n",
    "node_features"
   ],
   "metadata": {
    "collapsed": false,
    "ExecuteTime": {
     "end_time": "2023-09-15T07:59:01.183980500Z",
     "start_time": "2023-09-15T07:59:01.172981Z"
    }
   },
   "id": "6870c24dc10372bf"
  },
  {
   "cell_type": "code",
   "execution_count": 15,
   "outputs": [],
   "source": [
    "class A3TGNN(torch.nn.Module):\n",
    "    def __init__(self, node_features, periods):\n",
    "        super(A3TGNN, self).__init__()\n",
    "        # Attention Temporal Graph Convolutional Cell\n",
    "        self.tgnn = A3TGCN(in_channels=node_features, out_channels=32, periods=periods)\n",
    "        # Equals single-shot prediction\n",
    "        self.linear = torch.nn.Linear(32, 3)\n",
    "\n",
    "    def forward(self, x, edge_index, edge_weight):\n",
    "        h = self.tgnn(x, edge_index, edge_weight)\n",
    "        h = F.relu(h) \n",
    "        h = self.linear(h)\n",
    "        return h"
   ],
   "metadata": {
    "collapsed": false,
    "ExecuteTime": {
     "end_time": "2023-09-15T07:59:26.939603800Z",
     "start_time": "2023-09-15T07:59:26.926179200Z"
    }
   },
   "id": "a57d848ff87fc27a"
  },
  {
   "cell_type": "code",
   "execution_count": 16,
   "outputs": [],
   "source": [
    "device = torch.device('cuda' if torch.cuda.is_available() else 'cpu')"
   ],
   "metadata": {
    "collapsed": false,
    "ExecuteTime": {
     "end_time": "2023-09-15T07:59:27.817305400Z",
     "start_time": "2023-09-15T07:59:27.786307400Z"
    }
   },
   "id": "10cafda8432f33a6"
  },
  {
   "cell_type": "code",
   "execution_count": 19,
   "outputs": [
    {
     "data": {
      "text/plain": "A3TGNN(\n  (tgnn): A3TGCN(\n    (_base_tgcn): TGCN(\n      (conv_z): GCNConv(1, 32)\n      (linear_z): Linear(in_features=64, out_features=32, bias=True)\n      (conv_r): GCNConv(1, 32)\n      (linear_r): Linear(in_features=64, out_features=32, bias=True)\n      (conv_h): GCNConv(1, 32)\n      (linear_h): Linear(in_features=64, out_features=32, bias=True)\n    )\n  )\n  (linear): Linear(in_features=32, out_features=3, bias=True)\n)"
     },
     "execution_count": 19,
     "metadata": {},
     "output_type": "execute_result"
    }
   ],
   "source": [
    "# Instantiate the model\n",
    "node_features = train_dataset.features[0].shape[1]\n",
    "model = A3TGNN(node_features=node_features, periods=2)\n",
    "model = model.to(device)\n",
    "optimizer = torch.optim.Adam(model.parameters(), lr=0.01)\n",
    "loss_fn = torch.nn.CrossEntropyLoss()\n",
    "model.train()"
   ],
   "metadata": {
    "collapsed": false,
    "ExecuteTime": {
     "end_time": "2023-09-15T08:00:36.006500300Z",
     "start_time": "2023-09-15T08:00:35.978502500Z"
    }
   },
   "id": "3cfa9658049d8e1e"
  },
  {
   "cell_type": "code",
   "execution_count": 24,
   "outputs": [
    {
     "name": "stdout",
     "output_type": "stream",
     "text": [
      "torch.Size([107])\n",
      "torch.Size([107])\n",
      "torch.Size([107])\n",
      "torch.Size([107])\n",
      "torch.Size([107])\n",
      "torch.Size([107])\n",
      "torch.Size([107])\n",
      "torch.Size([107])\n"
     ]
    }
   ],
   "source": [
    "for snapshot in train_dataset:\n",
    "    x = snapshot.x.to(device)  # using dot notation for accessing attributes\n",
    "    edge_index = snapshot.edge_index.to(device)\n",
    "    edge_weight = snapshot.edge_attr.to(device)  # Assuming edge_attr is edge_weight\n",
    "    y = snapshot.y.to(device).long()\n",
    "    \n",
    "    out = model(x, edge_index, edge_weight)\n",
    "    # loss = F.cross_entropy(out,y)\n",
    "    print(y[:,1].shape)\n",
    "    # print(f\"{loss.item()}\")   "
   ],
   "metadata": {
    "collapsed": false,
    "ExecuteTime": {
     "end_time": "2023-09-15T08:01:25.660871300Z",
     "start_time": "2023-09-15T08:01:25.497469300Z"
    }
   },
   "id": "b24eeacc0fd20bc5"
  },
  {
   "cell_type": "code",
   "execution_count": 25,
   "outputs": [
    {
     "name": "stdout",
     "output_type": "stream",
     "text": [
      "Running training...\n",
      "Epoch 0, Loss: 8.3633\n",
      "Epoch 10, Loss: 1.6384\n",
      "Epoch 20, Loss: 1.3867\n",
      "Epoch 30, Loss: 1.3150\n",
      "Epoch 40, Loss: 1.3380\n",
      "Epoch 50, Loss: 1.2286\n",
      "Epoch 60, Loss: 1.1772\n",
      "Epoch 70, Loss: 1.1361\n",
      "Epoch 80, Loss: 1.1605\n",
      "Epoch 90, Loss: 1.1978\n",
      "Epoch 100, Loss: 1.0803\n",
      "Epoch 110, Loss: 1.0494\n",
      "Epoch 120, Loss: 1.0175\n",
      "Epoch 130, Loss: 1.0074\n",
      "Epoch 140, Loss: 0.9905\n",
      "Epoch 150, Loss: 0.9807\n",
      "Epoch 160, Loss: 0.9734\n",
      "Epoch 170, Loss: 1.0195\n",
      "Epoch 180, Loss: 0.9706\n",
      "Epoch 190, Loss: 0.9620\n"
     ]
    }
   ],
   "source": [
    "# 3. Training Loop\n",
    "losses = []\n",
    "print(\"Running training...\")\n",
    "for epoch in range(200):\n",
    "    \n",
    "    total_loss = 0\n",
    "    snapshot_count = 0\n",
    "    for step, snapshot in enumerate(train_dataset):\n",
    "        snapshot_count += 1\n",
    "        optimizer.zero_grad()\n",
    "        x = snapshot.x.to(device)  # using dot notation for accessing attributes\n",
    "        edge_index = snapshot.edge_index.to(device)\n",
    "        edge_weight = snapshot.edge_attr.to(device)  # Assuming edge_attr is edge_weight\n",
    "        y_to_long = snapshot.y[:,1].type(torch.LongTensor)\n",
    "        y = y_to_long.to(device)\n",
    "        \n",
    "        out = model(x, edge_index, edge_weight)\n",
    "        loss = loss_fn(out,y)\n",
    "        \n",
    "        loss.backward()\n",
    "        optimizer.step()\n",
    "        \n",
    "        total_loss += loss.item()\n",
    "        \n",
    "        number_of_snapshots = step + 1\n",
    "    average_loss = total_loss / snapshot_count  # Compute average loss for the epoch\n",
    "    losses.append(average_loss)\n",
    "        \n",
    "    if epoch % 10 == 0:\n",
    "        print(f\"Epoch {epoch}, Loss: {total_loss:.4f}\")"
   ],
   "metadata": {
    "collapsed": false,
    "ExecuteTime": {
     "end_time": "2023-09-15T08:02:06.884387800Z",
     "start_time": "2023-09-15T08:01:43.225731100Z"
    }
   },
   "id": "8fe5dc206af128f4"
  },
  {
   "cell_type": "code",
   "execution_count": 48,
   "outputs": [
    {
     "name": "stdout",
     "output_type": "stream",
     "text": [
      "Test loss: 0.2296\n",
      "Accuracy of the model on test snapshots: 92.06%\n",
      "Precision: 0.8287\n",
      "Recall: 0.5066\n",
      "F1 Score: 0.5502\n"
     ]
    }
   ],
   "source": [
    "from sklearn.metrics import precision_score, recall_score, f1_score, classification_report, confusion_matrix\n",
    "\n",
    "model.eval()  # Set the model to evaluation mode\n",
    "correct = 0\n",
    "total = 0\n",
    "total_loss = 0\n",
    "\n",
    "all_preds = []\n",
    "all_labels = []\n",
    "\n",
    "with torch.no_grad():  # During evaluation, no gradients are computed\n",
    "    for step, snapshot in enumerate(test_dataset):\n",
    "        x = snapshot.x.to(device)\n",
    "        edge_index = snapshot.edge_index.to(device)\n",
    "        edge_weight = snapshot.edge_attr.to(device)\n",
    "        y_to_long = snapshot.y[:,1].type(torch.LongTensor)\n",
    "        y = y_to_long.to(device)\n",
    "\n",
    "        # Forward pass\n",
    "        out = model(x, edge_index, edge_weight)\n",
    "        loss = loss_fn(out,y)\n",
    "        total_loss += loss.item()\n",
    "        \n",
    "        # Get predictions from the maximum value\n",
    "        _, predicted = torch.max(out.data, 1)\n",
    "\n",
    "        # Total number of labels\n",
    "        total += y.size(0)\n",
    "\n",
    "        # Total correct predictions\n",
    "        correct += (predicted == y).sum().item()\n",
    "        \n",
    "        all_preds.extend(predicted.cpu().numpy())\n",
    "        all_labels.extend(y.cpu().numpy())\n",
    "        number_of_snapshots = step + 1\n",
    "        total_loss = total_loss / number_of_snapshots\n",
    "    \n",
    "    \n",
    "    precision = precision_score(all_labels, all_preds, average='macro')\n",
    "    recall = recall_score(all_labels, all_preds, average='macro')\n",
    "    f1 = f1_score(all_labels, all_preds, average='macro')\n",
    "    class_report = classification_report(all_labels, all_preds, labels=[0,1,2])\n",
    "    confusion_matrix = confusion_matrix(all_labels, all_preds, labels=[0,1,2])\n",
    "    \n",
    "# Adjusting the index from enumerate to get the count\n",
    "print(f\"Test loss: {total_loss:.4f}\")\n",
    "print(f\"Accuracy of the model on test snapshots: {100 * correct / total:.2f}%\")\n",
    "print(f\"Precision: {precision:.4f}\")\n",
    "print(f\"Recall: {recall:.4f}\")\n",
    "print(f\"F1 Score: {f1:.4f}\")"
   ],
   "metadata": {
    "collapsed": false,
    "ExecuteTime": {
     "end_time": "2023-09-15T17:18:13.558883100Z",
     "start_time": "2023-09-15T17:18:13.496879100Z"
    }
   },
   "id": "c9036bf12f5dcd44"
  },
  {
   "cell_type": "code",
   "execution_count": 30,
   "outputs": [
    {
     "name": "stdout",
     "output_type": "stream",
     "text": [
      "              precision    recall  f1-score   support\n",
      "\n",
      "           0       0.94      0.99      0.97       191\n",
      "           1       0.55      0.40      0.46        15\n",
      "           2       1.00      0.12      0.22         8\n",
      "\n",
      "    accuracy                           0.92       214\n",
      "   macro avg       0.83      0.51      0.55       214\n",
      "weighted avg       0.92      0.92      0.90       214\n"
     ]
    }
   ],
   "source": [
    "print(class_report)"
   ],
   "metadata": {
    "collapsed": false,
    "ExecuteTime": {
     "end_time": "2023-09-15T08:21:22.915778500Z",
     "start_time": "2023-09-15T08:21:22.891781400Z"
    }
   },
   "id": "8a5017dc62894ee9"
  },
  {
   "cell_type": "code",
   "execution_count": 51,
   "outputs": [
    {
     "data": {
      "text/plain": "<Figure size 640x480 with 2 Axes>",
      "image/png": "[encoded data removed]"
     },
     "metadata": {},
     "output_type": "display_data"
    }
   ],
   "source": [
    "# Plot of the confusion matrix to a heatmap\n",
    "df_cm = pd.DataFrame(confusion_matrix, range(3), range(3))\n",
    "ax= plt.subplot()\n",
    "sns.set(font_scale=1.2)\n",
    "sns.heatmap(df_cm, cmap=\"coolwarm\", annot=True, annot_kws={\"size\": 16}, fmt='d', ax = ax)\n",
    "plt.title('Confusion Matrix')\n",
    "ax.set_xlabel('Predicted Values')\n",
    "ax.set_ylabel('True Values')\n",
    "ax.set_title('Confusion Matrix using A3TGCN')\n",
    "bottom, top = ax.get_ylim()\n",
    "ax.set_ylim(bottom + 0.5, top - 0.5)\n",
    "plt.show()"
   ],
   "metadata": {
    "collapsed": false,
    "ExecuteTime": {
     "end_time": "2023-09-15T17:21:09.426620100Z",
     "start_time": "2023-09-15T17:21:09.194181100Z"
    }
   },
   "id": "7fff0a6a5a61ab25"
  },
  {
   "cell_type": "code",
   "execution_count": 46,
   "outputs": [
    {
     "name": "stdout",
     "output_type": "stream",
     "text": [
      "[[ 11  12]\n",
      " [  1 190]]\n",
      "[[194   5]\n",
      " [  9   6]]\n",
      "[[206   0]\n",
      " [  7   1]]\n"
     ]
    }
   ],
   "source": [
    "for s, mat in enumerate(confusion_matrix):\n",
    "    print(mat)"
   ],
   "metadata": {
    "collapsed": false,
    "ExecuteTime": {
     "end_time": "2023-09-15T17:15:32.072146Z",
     "start_time": "2023-09-15T17:15:32.041150700Z"
    }
   },
   "id": "a3be89377d251ce3"
  },
  {
   "cell_type": "code",
   "execution_count": 27,
   "outputs": [
    {
     "data": {
      "text/plain": "<Figure size 640x480 with 1 Axes>",
      "image/png": "[encoded data removed]"
     },
     "metadata": {},
     "output_type": "display_data"
    }
   ],
   "source": [
    "plt.plot(losses)\n",
    "plt.xlabel('Epoch')\n",
    "plt.ylabel('Loss')\n",
    "plt.title('Α3TGCN Training Loss Curve')\n",
    "plt.show()"
   ],
   "metadata": {
    "collapsed": false,
    "ExecuteTime": {
     "end_time": "2023-09-15T08:02:56.997900400Z",
     "start_time": "2023-09-15T08:02:56.364376500Z"
    }
   },
   "id": "f1e8d175437024f2"
  }
 ],
 "metadata": {
  "kernelspec": {
   "display_name": "Python 3",
   "language": "python",
   "name": "python3"
  },
  "language_info": {
   "codemirror_mode": {
    "name": "ipython",
    "version": 2
   },
   "file_extension": ".py",
   "mimetype": "text/x-python",
   "name": "python",
   "nbconvert_exporter": "python",
   "pygments_lexer": "ipython2",
   "version": "2.7.6"
  }
 },
 "nbformat": 4,
 "nbformat_minor": 5
}
